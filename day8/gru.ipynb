{
 "cells": [
  {
   "cell_type": "code",
   "execution_count": 15,
   "outputs": [],
   "source": [
    "import math\n",
    "\n",
    "import torch\n",
    "import torch.nn as nn\n",
    "import torch.nn.functional as functional\n",
    "import torchvision.datasets as dataset\n",
    "import torchvision.transforms as transforms\n",
    "from torch.autograd import Variable\n",
    "from torch.utils.data import DataLoader\n",
    "\n",
    "device = torch.device(\"cuda\" if torch.cuda.is_available() else \"cpu\")"
   ],
   "metadata": {
    "collapsed": false,
    "ExecuteTime": {
     "end_time": "2023-09-22T05:13:26.894067100Z",
     "start_time": "2023-09-22T05:13:26.870402700Z"
    }
   },
   "id": "f461083a2c60d9a1"
  },
  {
   "cell_type": "code",
   "execution_count": 16,
   "outputs": [],
   "source": [
    "cuda = torch.cuda.is_available()\n",
    "Tensor = torch.cuda.FloatTensor if cuda else torch.FloatTensor\n",
    "\n",
    "torch.manual_seed(125)\n",
    "if cuda:\n",
    "    torch.cuda.manual_seed(125)"
   ],
   "metadata": {
    "collapsed": false,
    "ExecuteTime": {
     "end_time": "2023-09-22T05:13:26.897070200Z",
     "start_time": "2023-09-22T05:13:26.873126Z"
    }
   },
   "id": "d25abb90db1cb900"
  },
  {
   "cell_type": "code",
   "execution_count": 17,
   "outputs": [],
   "source": [
    "mnist_transform = transforms.Compose([\n",
    "    transforms.ToTensor(),\n",
    "    transforms.Normalize((0.5,), (1.0,))\n",
    "])\n",
    "\n",
    "data_root = \"../data\"\n",
    "\n",
    "train_dataset = dataset.MNIST(root=data_root, train=True, transform=mnist_transform, download=True)\n",
    "valid_dataset = dataset.MNIST(root=data_root, train=False, transform=mnist_transform, download=True)\n",
    "test_dataset = dataset.MNIST(root=data_root, train=False, transform=mnist_transform, download=True)"
   ],
   "metadata": {
    "collapsed": false,
    "ExecuteTime": {
     "end_time": "2023-09-22T05:13:26.932282100Z",
     "start_time": "2023-09-22T05:13:26.881195Z"
    }
   },
   "id": "323b5b2637b12ac1"
  },
  {
   "cell_type": "code",
   "execution_count": 18,
   "outputs": [],
   "source": [
    "batch_size = 64\n",
    "train_loader = DataLoader(train_dataset, batch_size=batch_size, shuffle=True)\n",
    "valid_loader = DataLoader(valid_dataset, batch_size=batch_size, shuffle=True)  # ┌ valid shuffle is not general,\n",
    "test_loader = DataLoader(test_dataset, batch_size=batch_size,\n",
    "                         shuffle=True)  # │ but sometimes use it for learning more variations"
   ],
   "metadata": {
    "collapsed": false,
    "ExecuteTime": {
     "end_time": "2023-09-22T05:13:26.935943Z",
     "start_time": "2023-09-22T05:13:26.923775200Z"
    }
   },
   "id": "4937eebb4be572cc"
  },
  {
   "cell_type": "code",
   "execution_count": 19,
   "outputs": [],
   "source": [
    "batch_size = 100\n",
    "n_iters = 6000\n",
    "num_epochs = int(n_iters / (len(train_dataset) / batch_size))"
   ],
   "metadata": {
    "collapsed": false,
    "ExecuteTime": {
     "end_time": "2023-09-22T05:13:26.949654200Z",
     "start_time": "2023-09-22T05:13:26.933431800Z"
    }
   },
   "id": "c4877e04f4d99c3b"
  },
  {
   "cell_type": "code",
   "execution_count": 20,
   "outputs": [],
   "source": [
    "class GRUCell(nn.Module):\n",
    "    def __init__(self, input_size, hidden_size, bias=True):\n",
    "        super(GRUCell, self).__init__()\n",
    "        self.input_size = input_size\n",
    "        self.hidden_size = hidden_size\n",
    "        self.bias = bias\n",
    "\n",
    "        self.x2h = nn.Linear(input_size, 3 * hidden_size, bias=bias)\n",
    "        self.h2h = nn.Linear(hidden_size, 3 * hidden_size, bias=bias)\n",
    "        self.reset_parameters()\n",
    "\n",
    "    def reset_parameters(self):\n",
    "        std = 1.0 / math.sqrt(self.hidden_size)\n",
    "        for w in self.parameters():\n",
    "            w.data.uniform_(-std, std)\n",
    "\n",
    "    def forward(self, x, hidden):\n",
    "        x = x.view(-1, x.size(1))\n",
    "        gate_x = self.x2h(x).squeeze()\n",
    "        gate_h = self.h2h(hidden).squeeze()\n",
    "\n",
    "        i_r, i_i, i_n = gate_x.chunk(3, 1)\n",
    "        h_r, h_i, h_n = gate_h.chunk(3, 1)\n",
    "\n",
    "        reset_gate = functional.sigmoid(i_r + h_r)\n",
    "        input_gate = functional.sigmoid(i_i + h_i)\n",
    "        new_gate = functional.tanh(i_n + (reset_gate * h_n))\n",
    "\n",
    "        return new_gate + input_gate * (hidden - new_gate)"
   ],
   "metadata": {
    "collapsed": false,
    "ExecuteTime": {
     "end_time": "2023-09-22T05:13:26.950693900Z",
     "start_time": "2023-09-22T05:13:26.942085500Z"
    }
   },
   "id": "1f6bca77a61eacc8"
  },
  {
   "cell_type": "code",
   "execution_count": 21,
   "outputs": [],
   "source": [
    "class GRUModel(nn.Module):\n",
    "    def __init__(self, input_dim, hidden_dim, layer_dim, output_dom, bias=True):\n",
    "        super(GRUModel, self).__init__()\n",
    "        self.hidden_dim = hidden_dim\n",
    "        self.layer_dim = layer_dim\n",
    "\n",
    "        self.gru_cell = GRUCell(input_dim, hidden_dim, layer_dim)\n",
    "        self.fc = nn.Linear(hidden_dim, output_dom)\n",
    "\n",
    "    def forward(self, x):\n",
    "        h0 = Variable(torch.zeros(self.layer_dim, x.size(0), self.hidden_dim)).to(device)\n",
    "\n",
    "        outs = []\n",
    "        hn = h0[0, :, :]\n",
    "\n",
    "        for seq in range(x.size(1)):\n",
    "            hn = self.gru_cell(x[:, seq, :], hn)\n",
    "            outs.append(hn)\n",
    "\n",
    "        out = outs[-1].squeeze()\n",
    "        out = self.fc(out)\n",
    "\n",
    "        return out"
   ],
   "metadata": {
    "collapsed": false,
    "ExecuteTime": {
     "end_time": "2023-09-22T05:13:26.964389400Z",
     "start_time": "2023-09-22T05:13:26.948484700Z"
    }
   },
   "id": "722c3290a9a52e0c"
  },
  {
   "cell_type": "code",
   "execution_count": 22,
   "outputs": [],
   "source": [
    "input_dim = 28\n",
    "hidden_dim = 128\n",
    "layer_dim = 1\n",
    "output_dom = 10\n",
    "\n",
    "model = GRUModel(input_dim, hidden_dim, layer_dim, output_dom).to(device)\n",
    "\n",
    "criteria = nn.CrossEntropyLoss()\n",
    "learning_rate = 0.1\n",
    "optimizer = torch.optim.SGD(model.parameters(), lr=learning_rate)"
   ],
   "metadata": {
    "collapsed": false,
    "ExecuteTime": {
     "end_time": "2023-09-22T05:13:26.974277800Z",
     "start_time": "2023-09-22T05:13:26.955058100Z"
    }
   },
   "id": "3f67c93be0603b36"
  },
  {
   "cell_type": "code",
   "execution_count": 23,
   "outputs": [
    {
     "name": "stdout",
     "output_type": "stream",
     "text": [
      "Iteration: 500, Loss: 1.6616928577423096, Accuracy: 43.59000015258789\n",
      "Iteration: 1000, Loss: 0.8945668935775757, Accuracy: 76.19999694824219\n",
      "Iteration: 1500, Loss: 0.29147762060165405, Accuracy: 89.7300033569336\n",
      "Iteration: 2000, Loss: 0.23627933859825134, Accuracy: 93.51000213623047\n",
      "Iteration: 2500, Loss: 0.03288726136088371, Accuracy: 95.05000305175781\n",
      "Iteration: 3000, Loss: 0.03037494421005249, Accuracy: 95.81999969482422\n",
      "Iteration: 3500, Loss: 0.16210567951202393, Accuracy: 96.33999633789062\n",
      "Iteration: 4000, Loss: 0.193087637424469, Accuracy: 96.19000244140625\n",
      "Iteration: 4500, Loss: 0.051720187067985535, Accuracy: 97.0\n",
      "Iteration: 5000, Loss: 0.13900159299373627, Accuracy: 97.26000213623047\n",
      "Iteration: 5500, Loss: 0.08090292662382126, Accuracy: 97.62000274658203\n",
      "Iteration: 6000, Loss: 0.10488346219062805, Accuracy: 97.69000244140625\n",
      "Iteration: 6500, Loss: 0.07984013855457306, Accuracy: 97.80000305175781\n",
      "Iteration: 7000, Loss: 0.10250388830900192, Accuracy: 97.55999755859375\n",
      "Iteration: 7500, Loss: 0.06477965414524078, Accuracy: 97.86000061035156\n",
      "Iteration: 8000, Loss: 0.10547608882188797, Accuracy: 97.80000305175781\n",
      "Iteration: 8500, Loss: 0.0428115539252758, Accuracy: 98.0199966430664\n",
      "Iteration: 9000, Loss: 0.04198889806866646, Accuracy: 98.22000122070312\n"
     ]
    }
   ],
   "source": [
    "seq_dim = 28\n",
    "loss_list = []\n",
    "_iter = 0\n",
    "\n",
    "for epoch in range(num_epochs):\n",
    "    for i, (images, labels) in enumerate(train_loader):\n",
    "        images = Variable(images.view(-1, seq_dim, input_dim).to(device))\n",
    "        labels = Variable(labels.to(device))\n",
    "\n",
    "        optimizer.zero_grad()\n",
    "        outputs = model(images)\n",
    "\n",
    "        loss = criteria(outputs, labels)\n",
    "        loss.backward()\n",
    "\n",
    "        optimizer.step()\n",
    "        loss_list.append(loss.item())\n",
    "        _iter += 1\n",
    "\n",
    "        if _iter % 500 == 0:\n",
    "            correct = 0\n",
    "            total = 0\n",
    "\n",
    "            for _images, _labels in valid_loader:\n",
    "                _images = Variable(_images.view(-1, seq_dim, input_dim).to(device))\n",
    "\n",
    "                outputs = model(_images)\n",
    "\n",
    "                _, predicted = torch.max(outputs.data, 1)\n",
    "\n",
    "                total += _labels.size(0)\n",
    "\n",
    "                correct += (predicted.cpu() == _labels.cpu()).sum()\n",
    "\n",
    "            accuracy = 100 * correct / total\n",
    "\n",
    "            loss_list.append(loss.data)\n",
    "\n",
    "            print(\"Iteration: {}, Loss: {}, Accuracy: {}\".format(_iter, loss.data, accuracy))"
   ],
   "metadata": {
    "collapsed": false,
    "ExecuteTime": {
     "end_time": "2023-09-22T05:20:32.942176600Z",
     "start_time": "2023-09-22T05:13:26.966387700Z"
    }
   },
   "id": "9fdba3112d45a809"
  },
  {
   "cell_type": "code",
   "execution_count": 24,
   "outputs": [],
   "source": [
    "from typing import Iterator\n",
    "\n",
    "\n",
    "def evaluate(mdl, val_iter: Iterator):\n",
    "    corrects, p_total, p_total_loss = 0, 0, 0\n",
    "    mdl.eval()\n",
    "    for img, i_labels in val_iter:\n",
    "        img = Variable(img.view(-1, seq_dim, input_dim).to(device))\n",
    "\n",
    "        logit = mdl(img)\n",
    "        f_loss = functional.cross_entropy(logit, i_labels.to(device), reduction='sum')\n",
    "        _, res_predict = torch.max(logit.data, 1)\n",
    "        p_total += i_labels.size(0)\n",
    "        p_total_loss += f_loss.item()\n",
    "        corrects += (res_predict.cpu() == i_labels).sum()\n",
    "\n",
    "    avg_loss = p_total_loss / p_total\n",
    "    acc = 100 * corrects / p_total\n",
    "    return avg_loss, acc"
   ],
   "metadata": {
    "collapsed": false,
    "ExecuteTime": {
     "end_time": "2023-09-22T05:20:32.951695500Z",
     "start_time": "2023-09-22T05:20:32.944686500Z"
    }
   },
   "id": "c9610d9d92c83ae0"
  },
  {
   "cell_type": "code",
   "execution_count": 25,
   "outputs": [
    {
     "name": "stdout",
     "output_type": "stream",
     "text": [
      "Test Loss:  0.07 | Test Acc: 97.98\n"
     ]
    }
   ],
   "source": [
    "test_loss, test_acc = evaluate(model, test_loader)\n",
    "print(\"Test Loss: %5.2f | Test Acc: %5.2f\" % (test_loss, test_acc))"
   ],
   "metadata": {
    "collapsed": false,
    "ExecuteTime": {
     "end_time": "2023-09-22T05:20:36.028926900Z",
     "start_time": "2023-09-22T05:20:32.948192500Z"
    }
   },
   "id": "b3fc7bb37baa06e7"
  }
 ],
 "metadata": {
  "kernelspec": {
   "display_name": "Python 3",
   "language": "python",
   "name": "python3"
  },
  "language_info": {
   "codemirror_mode": {
    "name": "ipython",
    "version": 2
   },
   "file_extension": ".py",
   "mimetype": "text/x-python",
   "name": "python",
   "nbconvert_exporter": "python",
   "pygments_lexer": "ipython2",
   "version": "2.7.6"
  }
 },
 "nbformat": 4,
 "nbformat_minor": 5
}

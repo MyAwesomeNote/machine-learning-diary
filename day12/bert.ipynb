{
 "cells": [
  {
   "cell_type": "code",
   "execution_count": 58,
   "outputs": [
    {
     "data": {
      "text/plain": "device(type='cuda')"
     },
     "execution_count": 58,
     "metadata": {},
     "output_type": "execute_result"
    }
   ],
   "source": [
    "import os\n",
    "\n",
    "import matplotlib.pylab as plt\n",
    "import pandas as pd\n",
    "import torch\n",
    "import torch.nn.functional as functional\n",
    "import torch.optim as optim\n",
    "from pytorch_transformers import BertTokenizer, BertForSequenceClassification\n",
    "from torch.utils.data import DataLoader, Dataset\n",
    "\n",
    "device = torch.device(\"cuda\" if torch.cuda.is_available() else \"cpu\")\n",
    "\n",
    "device"
   ],
   "metadata": {
    "collapsed": false,
    "ExecuteTime": {
     "end_time": "2023-09-27T05:09:35.646370100Z",
     "start_time": "2023-09-27T05:09:35.622126600Z"
    }
   },
   "id": "f4813c6e7bc53e65"
  },
  {
   "cell_type": "code",
   "execution_count": 59,
   "outputs": [],
   "source": [
    "train_df = pd.read_csv(\"../data/nlp/bert/training.txt\", sep=\"\\t\")\n",
    "valid_df = pd.read_csv(\"../data/nlp/bert/validating.txt\", sep=\"\\t\")\n",
    "test_df = pd.read_csv(\"../data/nlp/bert/testing.txt\", sep=\"\\t\")\n",
    "\n",
    "train_df = train_df.sample(frac=0.1, random_state=500)\n",
    "valid_df = valid_df.sample(frac=0.1, random_state=500)\n",
    "test_df = test_df.sample(frac=0.1, random_state=500)"
   ],
   "metadata": {
    "collapsed": false,
    "ExecuteTime": {
     "end_time": "2023-09-27T05:09:35.745553800Z",
     "start_time": "2023-09-27T05:09:35.626797300Z"
    }
   },
   "id": "574c82393618d694"
  },
  {
   "cell_type": "code",
   "execution_count": 60,
   "outputs": [],
   "source": [
    "class BertDataset(Dataset):\n",
    "    def __init__(self, df):\n",
    "        self.df = df\n",
    "\n",
    "    def __len__(self):\n",
    "        return len(self.df)\n",
    "\n",
    "    def __getitem__(self, idx):\n",
    "        sentence = self.df.iloc[idx, 1]\n",
    "        label = self.df.iloc[idx, 2]\n",
    "        return sentence, label"
   ],
   "metadata": {
    "collapsed": false,
    "ExecuteTime": {
     "end_time": "2023-09-27T05:09:35.754167400Z",
     "start_time": "2023-09-27T05:09:35.746556Z"
    }
   },
   "id": "346aebfba98db4bd"
  },
  {
   "cell_type": "code",
   "execution_count": 61,
   "outputs": [],
   "source": [
    "train_dataset = BertDataset(train_df)\n",
    "train_loader = DataLoader(train_dataset, batch_size=2, shuffle=True, num_workers=0)\n",
    "\n",
    "valid_dataset = BertDataset(valid_df)\n",
    "valid_loader = DataLoader(valid_dataset, batch_size=2, shuffle=True, num_workers=0)\n",
    "\n",
    "test_dataset = BertDataset(test_df)\n",
    "test_loader = DataLoader(test_dataset, batch_size=2, shuffle=True, num_workers=0)"
   ],
   "metadata": {
    "collapsed": false,
    "ExecuteTime": {
     "end_time": "2023-09-27T05:09:35.769271700Z",
     "start_time": "2023-09-27T05:09:35.750522500Z"
    }
   },
   "id": "37323f06193dd7ff"
  },
  {
   "cell_type": "code",
   "execution_count": 62,
   "outputs": [
    {
     "data": {
      "text/plain": "BertForSequenceClassification(\n  (bert): BertModel(\n    (embeddings): BertEmbeddings(\n      (word_embeddings): Embedding(30522, 768, padding_idx=0)\n      (position_embeddings): Embedding(512, 768)\n      (token_type_embeddings): Embedding(2, 768)\n      (LayerNorm): LayerNorm((768,), eps=1e-12, elementwise_affine=True)\n      (dropout): Dropout(p=0.1, inplace=False)\n    )\n    (encoder): BertEncoder(\n      (layer): ModuleList(\n        (0-11): 12 x BertLayer(\n          (attention): BertAttention(\n            (self): BertSelfAttention(\n              (query): Linear(in_features=768, out_features=768, bias=True)\n              (key): Linear(in_features=768, out_features=768, bias=True)\n              (value): Linear(in_features=768, out_features=768, bias=True)\n              (dropout): Dropout(p=0.1, inplace=False)\n            )\n            (output): BertSelfOutput(\n              (dense): Linear(in_features=768, out_features=768, bias=True)\n              (LayerNorm): LayerNorm((768,), eps=1e-12, elementwise_affine=True)\n              (dropout): Dropout(p=0.1, inplace=False)\n            )\n          )\n          (intermediate): BertIntermediate(\n            (dense): Linear(in_features=768, out_features=3072, bias=True)\n          )\n          (output): BertOutput(\n            (dense): Linear(in_features=3072, out_features=768, bias=True)\n            (LayerNorm): LayerNorm((768,), eps=1e-12, elementwise_affine=True)\n            (dropout): Dropout(p=0.1, inplace=False)\n          )\n        )\n      )\n    )\n    (pooler): BertPooler(\n      (dense): Linear(in_features=768, out_features=768, bias=True)\n      (activation): Tanh()\n    )\n  )\n  (dropout): Dropout(p=0.1, inplace=False)\n  (classifier): Linear(in_features=768, out_features=2, bias=True)\n)"
     },
     "execution_count": 62,
     "metadata": {},
     "output_type": "execute_result"
    }
   ],
   "source": [
    "tokenizer = BertTokenizer.from_pretrained(\"bert-base-uncased\")\n",
    "model = BertForSequenceClassification.from_pretrained(\"bert-base-uncased\")\n",
    "model.to(device)"
   ],
   "metadata": {
    "collapsed": false,
    "ExecuteTime": {
     "end_time": "2023-09-27T05:09:42.420744700Z",
     "start_time": "2023-09-27T05:09:35.771489500Z"
    }
   },
   "id": "af2b1fcddc607146"
  },
  {
   "cell_type": "code",
   "execution_count": 63,
   "outputs": [],
   "source": [
    "def save_ckpt(save_path, _model, valid_loss):\n",
    "    if not os.path.exists(save_path):\n",
    "        os.makedirs(os.path.dirname(save_path), exist_ok=True)\n",
    "\n",
    "    save_dict = {'model_state_dict': _model.state_dict(),\n",
    "                 'valid_loss': valid_loss}\n",
    "\n",
    "    torch.save(save_dict, os.path.join(save_path, \"bert-trained.pt\"))\n",
    "    print(f\"Model saved to ==> {save_path}\")\n",
    "\n",
    "\n",
    "def load_ckpt(load_path, _model):\n",
    "    if not os.path.exists(load_path):\n",
    "        raise ValueError(\"File doesn't exist {}\".format(load_path))\n",
    "\n",
    "    state_dict = torch.load(load_path, map_location='cpu')\n",
    "    print(f\"Model loaded from <== {load_path}\")\n",
    "\n",
    "    _model.load_state_dict(state_dict['model_state_dict'])\n",
    "    return state_dict['valid_loss']\n",
    "\n",
    "\n",
    "def save_metrics(save_path, _train_loss_list, _valid_loss_list, _global_steps_list):\n",
    "    if not os.path.exists(save_path):\n",
    "        os.makedirs(os.path.dirname(save_path), exist_ok=True)\n",
    "\n",
    "    save_dict = {'train_loss_list': _train_loss_list,\n",
    "                 'valid_loss_list': _valid_loss_list,\n",
    "                 'global_steps_list': _global_steps_list}\n",
    "\n",
    "    torch.save(save_dict, os.path.join(save_path, \"bert-metrics.pt\"))\n",
    "    print(f\"Metrics saved to ==> {save_path}\")\n",
    "\n",
    "\n",
    "def load_metrics(load_path):\n",
    "    if not os.path.exists(load_path):\n",
    "        raise ValueError(\"File doesn't exist {}\".format(load_path))\n",
    "\n",
    "    state_dict = torch.load(load_path, map_location='cpu')\n",
    "    print(f\"Metrics loaded from <== {load_path}\")\n",
    "\n",
    "    return state_dict['train_loss_list'], state_dict['valid_loss_list'], state_dict['global_steps_list']"
   ],
   "metadata": {
    "collapsed": false,
    "ExecuteTime": {
     "end_time": "2023-09-27T05:09:42.420744700Z",
     "start_time": "2023-09-27T05:09:42.414939400Z"
    }
   },
   "id": "99ae779cba1afbd1"
  },
  {
   "cell_type": "code",
   "execution_count": 71,
   "outputs": [],
   "source": [
    "def train(_model,\n",
    "          _optimizer,\n",
    "          epochs=5,\n",
    "          eval_every=len(train_loader) // 2,\n",
    "          best_valid_loss=float(\"Inf\")):\n",
    "    total_correct = 0\n",
    "\n",
    "    total_len = 0\n",
    "    running_loss = 0\n",
    "    valid_running_loss = 0\n",
    "\n",
    "    global_step = 0\n",
    "\n",
    "    _train_loss_list = []\n",
    "    _valid_loss_list = []\n",
    "    _global_steps_list = []\n",
    "\n",
    "    save_path = \"./ckpt/\"\n",
    "    \n",
    "    if os.path.exists(os.path.join(save_path, \"bert-trained.pt\")):\n",
    "        best_valid_loss = load_ckpt(os.path.join(save_path, \"bert-trained.pt\"), _model)\n",
    "\n",
    "    if os.path.exists(os.path.join(save_path, \"bert-metrics.pt\")):\n",
    "        _train_loss_list, _valid_loss_list, _global_steps_list = load_metrics(\n",
    "            os.path.join(save_path, \"bert-metrics.pt\"))\n",
    "    else:\n",
    "        _train_loss_list = []\n",
    "        _valid_loss_list = []\n",
    "        _global_steps_list = []\n",
    "\n",
    "    _model.train()\n",
    "    for epoch in range(epochs):\n",
    "        if global_step % eval_every == 0:\n",
    "            save_ckpt(save_path, _model, best_valid_loss)\n",
    "            save_metrics(save_path, train_loss_list, valid_loss_list, global_steps_list)\n",
    "\n",
    "        for text, label in train_loader:\n",
    "            _optimizer.zero_grad()\n",
    "\n",
    "            encoded_list = [tokenizer.encode(t, add_special_tokens=True) for t in text]\n",
    "            padded_list = [e[:512] + [0] * (512 - len(e[:512])) for e in encoded_list]\n",
    "\n",
    "            sample = torch.tensor(padded_list)\n",
    "            sample, label = sample.to(device), label.to(device)\n",
    "\n",
    "            labels = torch.tensor(label)\n",
    "\n",
    "            outputs = _model(sample, labels=labels)\n",
    "            loss, logits = outputs\n",
    "\n",
    "            pred = torch.argmax(functional.softmax(logits), dim=1)\n",
    "            correct = pred.eq(labels)\n",
    "            total_correct += correct.sum().item()\n",
    "            total_len += len(labels)\n",
    "\n",
    "            running_loss += loss.item()\n",
    "            loss.backward()\n",
    "            _optimizer.step()\n",
    "            global_step += 1\n",
    "\n",
    "            if global_step % eval_every == 0:\n",
    "                _model.eval()\n",
    "                with torch.no_grad():\n",
    "                    for _text, _label in valid_loader:\n",
    "                        encoded_list = [tokenizer.encode(t, add_special_tokens=True) for t in _text]\n",
    "                        padded_list = [e[:512] + [0] * (512 - len(e[:512])) for e in encoded_list]\n",
    "                        sample = torch.tensor(padded_list)\n",
    "                        sample, _label = sample.to(device), _label.to(device)\n",
    "                        labels = torch.tensor(_label)\n",
    "                        outputs = _model(sample, labels=labels)\n",
    "                        loss, logits = outputs\n",
    "                        valid_running_loss += loss.item()\n",
    "\n",
    "                average_train_loss = running_loss / eval_every\n",
    "                average_valid_loss = valid_running_loss / len(valid_loader)\n",
    "                _train_loss_list.append(average_train_loss)\n",
    "                _valid_loss_list.append(average_valid_loss)\n",
    "                _global_steps_list.append(global_step)\n",
    "\n",
    "                running_loss = 0\n",
    "                valid_running_loss = 0\n",
    "                _model.train()\n",
    "\n",
    "                print(\n",
    "                    f\"Epoch [{epoch + 1}/{epochs}] | Step [{global_step}/{epochs * len(train_loader)}] | Train Loss: {average_train_loss} | Valid Loss: {average_valid_loss}\")\n",
    "\n",
    "                if best_valid_loss > average_valid_loss:\n",
    "                    best_valid_loss = average_valid_loss\n",
    "                    save_ckpt(save_path, _model, best_valid_loss)\n",
    "                    save_metrics(save_path, _train_loss_list, _valid_loss_list, _global_steps_list)\n",
    "\n",
    "    save_metrics(save_path, _train_loss_list, _valid_loss_list, _global_steps_list)\n",
    "    print(\"Training finished\")"
   ],
   "metadata": {
    "collapsed": false,
    "ExecuteTime": {
     "end_time": "2023-09-27T05:18:29.190918400Z",
     "start_time": "2023-09-27T05:18:29.160339100Z"
    }
   },
   "id": "36350fcbf9421c58"
  },
  {
   "cell_type": "code",
   "execution_count": 72,
   "outputs": [
    {
     "name": "stdout",
     "output_type": "stream",
     "text": [
      "Model loaded from <== ./ckpt/bert-trained.pt\n",
      "Metrics loaded from <== ./ckpt/bert-metrics.pt\n",
      "Model saved to ==> ./ckpt/\n",
      "Metrics saved to ==> ./ckpt/\n"
     ]
    },
    {
     "name": "stderr",
     "output_type": "stream",
     "text": [
      "C:\\Users\\PleahMaCaka\\AppData\\Local\\Temp\\ipykernel_37216\\3530581389.py:44: UserWarning: To copy construct from a tensor, it is recommended to use sourceTensor.clone().detach() or sourceTensor.clone().detach().requires_grad_(True), rather than torch.tensor(sourceTensor).\n",
      "  labels = torch.tensor(label)\n",
      "C:\\Users\\PleahMaCaka\\AppData\\Local\\Temp\\ipykernel_37216\\3530581389.py:49: UserWarning: Implicit dimension choice for softmax has been deprecated. Change the call to include dim=X as an argument.\n",
      "  pred = torch.argmax(functional.softmax(logits), dim=1)\n",
      "C:\\Users\\PleahMaCaka\\AppData\\Local\\Temp\\ipykernel_37216\\3530581389.py:67: UserWarning: To copy construct from a tensor, it is recommended to use sourceTensor.clone().detach() or sourceTensor.clone().detach().requires_grad_(True), rather than torch.tensor(sourceTensor).\n",
      "  labels = torch.tensor(label)\n"
     ]
    },
    {
     "name": "stdout",
     "output_type": "stream",
     "text": [
      "Epoch [1/5] | Step [510/5100] | Train Loss: 0.6981619655501609 | Valid Loss: 0.6926242306843355\n",
      "Model saved to ==> ./ckpt/\n",
      "Metrics saved to ==> ./ckpt/\n",
      "Epoch [1/5] | Step [1020/5100] | Train Loss: 0.7004907133532505 | Valid Loss: 0.6934326232846452\n",
      "Model saved to ==> ./ckpt/\n",
      "Metrics saved to ==> ./ckpt/\n"
     ]
    },
    {
     "ename": "KeyboardInterrupt",
     "evalue": "",
     "output_type": "error",
     "traceback": [
      "\u001B[1;31m---------------------------------------------------------------------------\u001B[0m",
      "\u001B[1;31mKeyboardInterrupt\u001B[0m                         Traceback (most recent call last)",
      "Cell \u001B[1;32mIn[72], line 2\u001B[0m\n\u001B[0;32m      1\u001B[0m optimizer \u001B[38;5;241m=\u001B[39m optim\u001B[38;5;241m.\u001B[39mAdam(model\u001B[38;5;241m.\u001B[39mparameters(), lr\u001B[38;5;241m=\u001B[39m\u001B[38;5;241m2e-5\u001B[39m)\n\u001B[1;32m----> 2\u001B[0m \u001B[43mtrain\u001B[49m\u001B[43m(\u001B[49m\u001B[43mmodel\u001B[49m\u001B[43m,\u001B[49m\u001B[43m \u001B[49m\u001B[43moptimizer\u001B[49m\u001B[43m)\u001B[49m\n",
      "Cell \u001B[1;32mIn[71], line 43\u001B[0m, in \u001B[0;36mtrain\u001B[1;34m(_model, _optimizer, epochs, eval_every, best_valid_loss)\u001B[0m\n\u001B[0;32m     40\u001B[0m padded_list \u001B[38;5;241m=\u001B[39m [e[:\u001B[38;5;241m512\u001B[39m] \u001B[38;5;241m+\u001B[39m [\u001B[38;5;241m0\u001B[39m] \u001B[38;5;241m*\u001B[39m (\u001B[38;5;241m512\u001B[39m\u001B[38;5;241m-\u001B[39m\u001B[38;5;28mlen\u001B[39m(e[:\u001B[38;5;241m512\u001B[39m])) \u001B[38;5;28;01mfor\u001B[39;00m e \u001B[38;5;129;01min\u001B[39;00m encoded_list]\n\u001B[0;32m     42\u001B[0m sample \u001B[38;5;241m=\u001B[39m torch\u001B[38;5;241m.\u001B[39mtensor(padded_list)\n\u001B[1;32m---> 43\u001B[0m sample, label \u001B[38;5;241m=\u001B[39m \u001B[43msample\u001B[49m\u001B[38;5;241;43m.\u001B[39;49m\u001B[43mto\u001B[49m\u001B[43m(\u001B[49m\u001B[43mdevice\u001B[49m\u001B[43m)\u001B[49m, label\u001B[38;5;241m.\u001B[39mto(device)\n\u001B[0;32m     44\u001B[0m labels \u001B[38;5;241m=\u001B[39m torch\u001B[38;5;241m.\u001B[39mtensor(label)\n\u001B[0;32m     46\u001B[0m outputs \u001B[38;5;241m=\u001B[39m _model(sample, labels\u001B[38;5;241m=\u001B[39mlabels)\n",
      "\u001B[1;31mKeyboardInterrupt\u001B[0m: "
     ]
    }
   ],
   "source": [
    "optimizer = optim.Adam(model.parameters(), lr=2e-5)\n",
    "train(model, optimizer)"
   ],
   "metadata": {
    "collapsed": false,
    "ExecuteTime": {
     "start_time": "2023-09-27T05:18:30.785676800Z"
    }
   },
   "id": "29ff6a9d8e725923"
  },
  {
   "cell_type": "code",
   "execution_count": 76,
   "outputs": [
    {
     "name": "stdout",
     "output_type": "stream",
     "text": [
      "Metrics loaded from <== ./ckpt/bert-metrics.pt\n"
     ]
    },
    {
     "data": {
      "text/plain": "<Figure size 640x480 with 1 Axes>",
      "image/png": "[encoded data removed]"
     },
     "metadata": {},
     "output_type": "display_data"
    }
   ],
   "source": [
    "train_loss_list, valid_loss_list, global_steps_list = load_metrics(\"./ckpt/bert-metrics.pt\")\n",
    "plt.plot(global_steps_list, train_loss_list, label=\"Train\")\n",
    "plt.plot(global_steps_list, valid_loss_list, label=\"Valid\")\n",
    "plt.xlabel(\"Global Steps\")\n",
    "plt.ylabel(\"Loss\")\n",
    "plt.legend()\n",
    "plt.savefig(\"training.tmp.png\")\n",
    "plt.show()  # ?"
   ],
   "metadata": {
    "collapsed": false,
    "ExecuteTime": {
     "end_time": "2023-09-27T06:08:58.076667100Z",
     "start_time": "2023-09-27T06:08:57.855937600Z"
    }
   },
   "id": "b5ad6db30a8a06ef"
  },
  {
   "cell_type": "code",
   "execution_count": 78,
   "outputs": [],
   "source": [
    "from sklearn.metrics import classification_report, confusion_matrix\n",
    "import seaborn as sns\n",
    "\n",
    "\n",
    "def evaluate(_model, test_loader):\n",
    "    y_pred = []\n",
    "    y_true = []\n",
    "    \n",
    "    model.eval()\n",
    "    with torch.no_grad():\n",
    "        for text, label in test_loader:\n",
    "            encoded_list = [tokenizer.encode(t, add_special_tokens=True) for t in text]\n",
    "            padded_list = [e[:512] + [0] * (512 - len(e[:512])) for e in encoded_list]\n",
    "            sample = torch.tensor(padded_list)\n",
    "            sample, label = sample.to(device), label.to(device)\n",
    "            labels = torch.tensor(label)\n",
    "            outputs = _model(sample, labels=labels)\n",
    "            _, logits = outputs\n",
    "            pred = torch.argmax(functional.softmax(logits), dim=1)\n",
    "            y_pred.extend(pred.tolist())\n",
    "            y_true.extend(label.tolist())\n",
    "            \n",
    "    print('Classification Report:')\n",
    "    print(classification_report(y_true, y_pred, labels=[1,0], digits=4))\n",
    "    \n",
    "    cm = confusion_matrix(y_true, y_pred, labels=[1,0])\n",
    "    ax= plt.subplot()\n",
    "    sns.heatmap(cm, annot=True, ax = ax, cmap='Blues', fmt=\"d\")\n",
    "    ax.set_title('Confusion Matrix')\n",
    "    ax.set_xlabel('Predicted Labels')\n",
    "    ax.set_ylabel('True Labels')\n",
    "    ax.xaxis.set_ticklabels(['0', '1'])\n",
    "    ax.yaxis.set_ticklabels(['0', '1'])"
   ],
   "metadata": {
    "collapsed": false,
    "ExecuteTime": {
     "end_time": "2023-09-27T06:11:36.612888200Z",
     "start_time": "2023-09-27T06:11:36.606584400Z"
    }
   },
   "id": "1534e798d21cecd0"
  },
  {
   "cell_type": "code",
   "execution_count": 79,
   "outputs": [
    {
     "name": "stdout",
     "output_type": "stream",
     "text": [
      "Model loaded from <== ./ckpt/bert-trained.pt\n"
     ]
    },
    {
     "name": "stderr",
     "output_type": "stream",
     "text": [
      "C:\\Users\\PleahMaCaka\\AppData\\Local\\Temp\\ipykernel_37216\\535000610.py:16: UserWarning: To copy construct from a tensor, it is recommended to use sourceTensor.clone().detach() or sourceTensor.clone().detach().requires_grad_(True), rather than torch.tensor(sourceTensor).\n",
      "  labels = torch.tensor(label)\n",
      "C:\\Users\\PleahMaCaka\\AppData\\Local\\Temp\\ipykernel_37216\\535000610.py:19: UserWarning: Implicit dimension choice for softmax has been deprecated. Change the call to include dim=X as an argument.\n",
      "  pred = torch.argmax(functional.softmax(logits), dim=1)\n"
     ]
    },
    {
     "name": "stdout",
     "output_type": "stream",
     "text": [
      "Classification Report:\n",
      "              precision    recall  f1-score   support\n",
      "\n",
      "           1     0.0000    0.0000    0.0000       558\n",
      "           0     0.4909    1.0000    0.6585       538\n",
      "\n",
      "    accuracy                         0.4909      1096\n",
      "   macro avg     0.2454    0.5000    0.3293      1096\n",
      "weighted avg     0.2410    0.4909    0.3232      1096\n"
     ]
    },
    {
     "name": "stderr",
     "output_type": "stream",
     "text": [
      "C:\\Program Files\\Python311\\Lib\\site-packages\\sklearn\\metrics\\_classification.py:1469: UndefinedMetricWarning: Precision and F-score are ill-defined and being set to 0.0 in labels with no predicted samples. Use `zero_division` parameter to control this behavior.\n",
      "  _warn_prf(average, modifier, msg_start, len(result))\n",
      "C:\\Program Files\\Python311\\Lib\\site-packages\\sklearn\\metrics\\_classification.py:1469: UndefinedMetricWarning: Precision and F-score are ill-defined and being set to 0.0 in labels with no predicted samples. Use `zero_division` parameter to control this behavior.\n",
      "  _warn_prf(average, modifier, msg_start, len(result))\n",
      "C:\\Program Files\\Python311\\Lib\\site-packages\\sklearn\\metrics\\_classification.py:1469: UndefinedMetricWarning: Precision and F-score are ill-defined and being set to 0.0 in labels with no predicted samples. Use `zero_division` parameter to control this behavior.\n",
      "  _warn_prf(average, modifier, msg_start, len(result))\n"
     ]
    },
    {
     "data": {
      "text/plain": "<Figure size 640x480 with 2 Axes>",
      "image/png": "[encoded data removed]"
     },
     "metadata": {},
     "output_type": "display_data"
    }
   ],
   "source": [
    "best_model = model.to(device)\n",
    "load_ckpt(\"./ckpt/bert-trained.pt\", best_model)\n",
    "evaluate(best_model, test_loader)"
   ],
   "metadata": {
    "collapsed": false,
    "ExecuteTime": {
     "end_time": "2023-09-27T06:12:18.677859700Z",
     "start_time": "2023-09-27T06:11:37.732746Z"
    }
   },
   "id": "d921288c481e5ea4"
  }
 ],
 "metadata": {
  "kernelspec": {
   "display_name": "Python 3",
   "language": "python",
   "name": "python3"
  },
  "language_info": {
   "codemirror_mode": {
    "name": "ipython",
    "version": 2
   },
   "file_extension": ".py",
   "mimetype": "text/x-python",
   "name": "python",
   "nbconvert_exporter": "python",
   "pygments_lexer": "ipython2",
   "version": "2.7.6"
  }
 },
 "nbformat": 4,
 "nbformat_minor": 5
}

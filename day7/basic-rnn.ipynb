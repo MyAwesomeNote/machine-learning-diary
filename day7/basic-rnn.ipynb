{
 "cells": [
  {
   "cell_type": "code",
   "execution_count": 33,
   "outputs": [],
   "source": [
    "import torch\n",
    "import torchtext\n",
    "import time\n",
    "\n",
    "from torchtext import datasets\n",
    "\n",
    "import numpy as np\n",
    "import torch.nn as nn\n",
    "import torch.nn.functional as functional\n"
   ],
   "metadata": {
    "collapsed": false,
    "ExecuteTime": {
     "end_time": "2023-09-20T06:45:45.805127100Z",
     "start_time": "2023-09-20T06:45:45.785973700Z"
    }
   },
   "id": "4aa2f3f317339d46"
  },
  {
   "cell_type": "code",
   "execution_count": 34,
   "outputs": [],
   "source": [
    "start = time.time()\n",
    "TEXT = torchtext.data.Field(sequential=True, batch_first=True, lower=True)\n",
    "LABEL = torchtext.data.Field(sequential=False, batch_first=True)\n",
    "\n",
    "train_data, test_data = datasets.IMDB.splits(TEXT, LABEL)\n",
    "train_data, valid_data = train_data.split(split_ratio=0.8)\n",
    "\n",
    "TEXT.build_vocab(train_data, max_size=10000, min_freq=10, vectors=None)\n",
    "LABEL.build_vocab(train_data)\n",
    "\n",
    "BATCH_SIZE = 100\n",
    "device = torch.device(\"CUDA\" if torch.cuda.is_available() else \"cpu\")"
   ],
   "metadata": {
    "collapsed": false,
    "ExecuteTime": {
     "end_time": "2023-09-20T06:45:52.783342500Z",
     "start_time": "2023-09-20T06:45:45.791972900Z"
    }
   },
   "id": "3d19dfd8a967e4f0"
  },
  {
   "cell_type": "code",
   "execution_count": 35,
   "outputs": [],
   "source": [
    "train_iter, valid_iter, test_iter = torchtext.data.BucketIterator.splits(\n",
    "    (train_data, valid_data, test_data), batch_size=BATCH_SIZE, device=device\n",
    ")"
   ],
   "metadata": {
    "collapsed": false,
    "ExecuteTime": {
     "end_time": "2023-09-20T06:45:52.922879Z",
     "start_time": "2023-09-20T06:45:52.783342500Z"
    }
   },
   "id": "e6647a5c1047529b"
  },
  {
   "cell_type": "code",
   "execution_count": 36,
   "outputs": [],
   "source": [
    "vocab_size = len(TEXT.vocab)\n",
    "n_classes = 2"
   ],
   "metadata": {
    "collapsed": false,
    "ExecuteTime": {
     "end_time": "2023-09-20T06:45:52.936477Z",
     "start_time": "2023-09-20T06:45:52.917482100Z"
    }
   },
   "id": "84d24d597974edf3"
  },
  {
   "cell_type": "code",
   "execution_count": 37,
   "outputs": [],
   "source": [
    "class BasicRNN(nn.Module):\n",
    "    def __init__(self, n_layers, hidden_dim, n_vocab, embed_dim, n_classes, dropout_p=0.2):\n",
    "        super(BasicRNN, self).__init__()\n",
    "        self.n_layers = n_layers\n",
    "        self.embed = nn.Embedding(n_vocab, embed_dim)\n",
    "        self.hidden_dim = hidden_dim\n",
    "        self.dropout = nn.Dropout(dropout_p)\n",
    "        self.rnn = nn.RNN(embed_dim, hidden_dim, num_layers=n_layers, batch_first=True)\n",
    "        self.out = nn.Linear(hidden_dim, n_classes)\n",
    "        \n",
    "    def forward(self, x):\n",
    "        x = self.embed(x)\n",
    "        h_0 = self._init_state(batch_size=x.size(0))\n",
    "        x, _ = self.rnn(x, h_0)\n",
    "        h_t = x[:,-1,:]\n",
    "        self.dropout(h_t)\n",
    "        logit = self.out(h_t)\n",
    "        return logit\n",
    "    \n",
    "    def _init_state(self, batch_size=1):\n",
    "        weight = next(self.parameters()).data\n",
    "        return weight.new(self.n_layers, batch_size, self.hidden_dim).zero_()"
   ],
   "metadata": {
    "collapsed": false,
    "ExecuteTime": {
     "end_time": "2023-09-20T06:45:52.936477Z",
     "start_time": "2023-09-20T06:45:52.927391900Z"
    }
   },
   "id": "d61eefbb43b457cf"
  },
  {
   "cell_type": "code",
   "execution_count": 38,
   "outputs": [],
   "source": [
    "model = BasicRNN(\n",
    "    n_layers=1,\n",
    "    hidden_dim=256,\n",
    "    n_vocab=vocab_size,\n",
    "    embed_dim=128,\n",
    "    n_classes=n_classes,\n",
    "    dropout_p=0.5,\n",
    ")\n",
    "model.to(device)\n",
    "loss_fn = nn.CrossEntropyLoss()\n",
    "optimizer = torch.optim.Adam(model.parameters(), lr=0.0001)"
   ],
   "metadata": {
    "collapsed": false,
    "ExecuteTime": {
     "end_time": "2023-09-20T06:45:52.953327400Z",
     "start_time": "2023-09-20T06:45:52.934438300Z"
    }
   },
   "id": "7b7c9734c48aed2"
  },
  {
   "cell_type": "code",
   "execution_count": 39,
   "outputs": [],
   "source": [
    "def train(epoch, model, optimizer, train_iter):\n",
    "    model.train()\n",
    "    for b, batch in enumerate(train_iter):\n",
    "        x, y = batch.text.to(device), batch.label.to(device)\n",
    "        y.data.sub_(1)\n",
    "        optimizer.zero_grad()\n",
    "\n",
    "        logit = model(x)\n",
    "        loss = functional.cross_entropy(logit, y)\n",
    "        loss.backward()\n",
    "        optimizer.step()\n",
    "        if b % 50 == 0:\n",
    "            print(\n",
    "                f\"Train Epoch: {epoch} [{b * len(x)}/{len(train_iter.dataset)} \", end=\"\"\n",
    "            )\n",
    "            print(f\"({len(train_iter.dataset):.0f}%)]\\tLoss: {loss.item():.6f}\")"
   ],
   "metadata": {
    "collapsed": false,
    "ExecuteTime": {
     "end_time": "2023-09-20T06:45:52.962230300Z",
     "start_time": "2023-09-20T06:45:52.952010500Z"
    }
   },
   "id": "62fa744e6ec16ca3"
  },
  {
   "cell_type": "code",
   "execution_count": 40,
   "outputs": [],
   "source": [
    "def evaluate(model, val_iter):\n",
    "    model.eval()\n",
    "    corrects, total, total_loss = 0, 0, 0\n",
    "\n",
    "    for batch in val_iter:\n",
    "        x, y = batch.text.to(device), batch.label.to(device)\n",
    "        y.data.sub_(1)\n",
    "        logit = model(x)\n",
    "        loss = functional.cross_entropy(logit, y, reduction=\"sum\")\n",
    "        total += y.size(0)\n",
    "        total_loss += loss.item()\n",
    "        corrects += (logit.max(1)[1].view(y.size()).data == y.data).sum()\n",
    "\n",
    "    avg_loss = total_loss / len(val_iter.dataset)\n",
    "    avg_accuracy = corrects / total\n",
    "    return avg_loss, avg_accuracy"
   ],
   "metadata": {
    "collapsed": false,
    "ExecuteTime": {
     "end_time": "2023-09-20T06:45:52.973405300Z",
     "start_time": "2023-09-20T06:45:52.955989Z"
    }
   },
   "id": "745f272b9d98a098"
  },
  {
   "cell_type": "code",
   "execution_count": 41,
   "outputs": [
    {
     "name": "stdout",
     "output_type": "stream",
     "text": [
      "Train Epoch: 1 [0/20000 (20000%)]\tLoss: 0.697548\n",
      "Train Epoch: 1 [5000/20000 (20000%)]\tLoss: 0.708910\n",
      "Train Epoch: 1 [10000/20000 (20000%)]\tLoss: 0.697511\n",
      "Train Epoch: 1 [15000/20000 (20000%)]\tLoss: 0.693477\n",
      "\n",
      "[epoch:   1] Validation_loss: 0.70| Validation_acc: 0.49\n",
      "Train Epoch: 2 [0/20000 (20000%)]\tLoss: 0.693898\n",
      "Train Epoch: 2 [5000/20000 (20000%)]\tLoss: 0.694291\n",
      "Train Epoch: 2 [10000/20000 (20000%)]\tLoss: 0.694285\n",
      "Train Epoch: 2 [15000/20000 (20000%)]\tLoss: 0.702581\n",
      "\n",
      "[epoch:   2] Validation_loss: 0.69| Validation_acc: 0.50\n",
      "Train Epoch: 3 [0/20000 (20000%)]\tLoss: 0.688070\n",
      "Train Epoch: 3 [5000/20000 (20000%)]\tLoss: 0.704844\n",
      "Train Epoch: 3 [10000/20000 (20000%)]\tLoss: 0.693793\n",
      "Train Epoch: 3 [15000/20000 (20000%)]\tLoss: 0.695230\n",
      "\n",
      "[epoch:   3] Validation_loss: 0.70| Validation_acc: 0.50\n",
      "Train Epoch: 4 [0/20000 (20000%)]\tLoss: 0.702174\n",
      "Train Epoch: 4 [5000/20000 (20000%)]\tLoss: 0.695602\n",
      "Train Epoch: 4 [10000/20000 (20000%)]\tLoss: 0.688003\n",
      "Train Epoch: 4 [15000/20000 (20000%)]\tLoss: 0.693151\n",
      "\n",
      "[epoch:   4] Validation_loss: 0.70| Validation_acc: 0.50\n",
      "Train Epoch: 5 [0/20000 (20000%)]\tLoss: 0.692699\n",
      "Train Epoch: 5 [5000/20000 (20000%)]\tLoss: 0.696513\n",
      "Train Epoch: 5 [10000/20000 (20000%)]\tLoss: 0.693869\n",
      "Train Epoch: 5 [15000/20000 (20000%)]\tLoss: 0.698581\n",
      "\n",
      "[epoch:   5] Validation_loss: 0.70| Validation_acc: 0.50\n"
     ]
    }
   ],
   "source": [
    "BATCH_SIZE = 100\n",
    "LR = 0.001\n",
    "EPOCHS = 5\n",
    "\n",
    "for e in range(1, EPOCHS + 1):\n",
    "    train(e, model, optimizer, train_iter)\n",
    "    valid_loss, valid_accuracy = evaluate(model, valid_iter)\n",
    "    print(f\"\\n[epoch: {e:3d}] Validation_loss: {valid_loss:4.2f}\", end=\"\")\n",
    "    print(f\"| Validation_acc: {valid_accuracy:4.2f}\")"
   ],
   "metadata": {
    "collapsed": false,
    "ExecuteTime": {
     "end_time": "2023-09-20T07:01:39.998490300Z",
     "start_time": "2023-09-20T06:45:52.965234900Z"
    }
   },
   "id": "89cf18882ba9f28"
  }
 ],
 "metadata": {
  "kernelspec": {
   "display_name": "Python 3",
   "language": "python",
   "name": "python3"
  },
  "language_info": {
   "codemirror_mode": {
    "name": "ipython",
    "version": 2
   },
   "file_extension": ".py",
   "mimetype": "text/x-python",
   "name": "python",
   "nbconvert_exporter": "python",
   "pygments_lexer": "ipython2",
   "version": "2.7.6"
  }
 },
 "nbformat": 4,
 "nbformat_minor": 5
}

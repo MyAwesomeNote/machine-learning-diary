{
 "cells": [
  {
   "cell_type": "code",
   "execution_count": 25,
   "outputs": [],
   "source": [
    "import math\n",
    "\n",
    "import torch\n",
    "import torch.nn\n",
    "import torch.nn as nn\n",
    "import torch.nn.functional as functional\n",
    "from torch.autograd import Variable\n",
    "from torch.utils.data import DataLoader"
   ],
   "metadata": {
    "collapsed": false,
    "ExecuteTime": {
     "end_time": "2023-09-20T07:19:50.780750500Z",
     "start_time": "2023-09-20T07:19:50.759020700Z"
    }
   },
   "id": "6c6b15aa2dc32d01"
  },
  {
   "cell_type": "code",
   "execution_count": 26,
   "outputs": [
    {
     "name": "stdout",
     "output_type": "stream",
     "text": [
      "cuda\n"
     ]
    }
   ],
   "source": [
    "device = torch.device(\"cuda\" if torch.cuda.is_available() else \"cpu\")\n",
    "cuda = torch.cuda.is_available()\n",
    "\n",
    "print(device)\n",
    "\n",
    "Tensor = torch.cuda.FloatTensor if cuda else torch.FloatTensor\n",
    "\n",
    "torch.manual_seed(125)\n",
    "\n",
    "if torch.cuda.is_available():\n",
    "    torch.cuda.manual_seed_all(125)"
   ],
   "metadata": {
    "collapsed": false,
    "ExecuteTime": {
     "end_time": "2023-09-20T07:19:50.812401100Z",
     "start_time": "2023-09-20T07:19:50.763581400Z"
    }
   },
   "id": "75520fce3f9f8320"
  },
  {
   "cell_type": "code",
   "execution_count": 27,
   "outputs": [],
   "source": [
    "import torchvision.transforms as transforms\n",
    "\n",
    "mnist_transform = transforms.Compose([\n",
    "    transforms.ToTensor(),\n",
    "    transforms.Normalize((0.5,), (1.0,))\n",
    "])"
   ],
   "metadata": {
    "collapsed": false,
    "ExecuteTime": {
     "end_time": "2023-09-20T07:19:50.868002Z",
     "start_time": "2023-09-20T07:19:50.797231600Z"
    }
   },
   "id": "5d0dbc2907136978"
  },
  {
   "cell_type": "code",
   "execution_count": 28,
   "outputs": [],
   "source": [
    "from torchvision.datasets import MNIST\n",
    "\n",
    "download_root = \"../data/\"\n",
    "\n",
    "train_dataset = MNIST(download_root, transform=mnist_transform, train=True, download=True)\n",
    "vali_dataset = MNIST(download_root, transform=mnist_transform, train=False, download=True)\n",
    "test_dataset = MNIST(download_root, transform=mnist_transform, train=False, download=True)"
   ],
   "metadata": {
    "collapsed": false,
    "ExecuteTime": {
     "end_time": "2023-09-20T07:19:50.922339500Z",
     "start_time": "2023-09-20T07:19:50.846034400Z"
    }
   },
   "id": "de70a43e1226dd4b"
  },
  {
   "cell_type": "code",
   "execution_count": 29,
   "outputs": [],
   "source": [
    "batch_size = 64\n",
    "train_loader = DataLoader(train_dataset, batch_size=batch_size, shuffle=True)\n",
    "vali_loader = DataLoader(vali_dataset, batch_size=batch_size, shuffle=True)\n",
    "test_loader = DataLoader(test_dataset, batch_size=batch_size, shuffle=True)"
   ],
   "metadata": {
    "collapsed": false,
    "ExecuteTime": {
     "end_time": "2023-09-20T07:19:50.933956500Z",
     "start_time": "2023-09-20T07:19:50.924343100Z"
    }
   },
   "id": "c1af0fa3bffd951d"
  },
  {
   "cell_type": "code",
   "execution_count": 30,
   "outputs": [],
   "source": [
    "batch_size = 100\n",
    "n_iters = 6000\n",
    "num_epochs = n_iters / (len(train_dataset) / batch_size)\n",
    "num_epochs = int(num_epochs)"
   ],
   "metadata": {
    "collapsed": false,
    "ExecuteTime": {
     "end_time": "2023-09-20T07:19:50.982401300Z",
     "start_time": "2023-09-20T07:19:50.931959Z"
    }
   },
   "id": "e2509cf377127842"
  },
  {
   "cell_type": "code",
   "execution_count": 31,
   "outputs": [],
   "source": [
    "class LSTMCell(nn.Module):\n",
    "    def __init__(self, input_size, hidden_size, bias=True):\n",
    "        super(LSTMCell, self).__init__()\n",
    "        self.input_size = input_size\n",
    "        self.hidden_size = hidden_size\n",
    "        self.bias = bias\n",
    "        self.x2h = nn.Linear(input_size, 4 * hidden_size, bias=bias)\n",
    "        self.h2h = nn.Linear(hidden_size, 4 * hidden_size, bias=bias)\n",
    "        self.reset_parameters()\n",
    "\n",
    "    def reset_parameters(self):\n",
    "        std = 1.0 / math.sqrt(self.hidden_size)\n",
    "        for w in self.parameters():\n",
    "            w.data.uniform_(-std, std)\n",
    "\n",
    "    def forward(self, x, hidden):\n",
    "        hx, cx = hidden\n",
    "        x = x.view(-1, x.size(1))\n",
    "        gates = self.x2h(x) + self.h2h(hx)\n",
    "\n",
    "        gates = gates.squeeze()\n",
    "\n",
    "        ingate, forgetgate, cellgate, outgate = gates.chunk(4, 1)\n",
    "\n",
    "        ingate = torch.sigmoid(ingate)\n",
    "        forgetgate = torch.sigmoid(forgetgate)\n",
    "        cellgate = torch.tanh(cellgate)\n",
    "        outgate = torch.sigmoid(outgate)\n",
    "\n",
    "        cy = torch.mul(cx, forgetgate) + torch.mul(ingate, cellgate)\n",
    "        hy = torch.mul(outgate, torch.tanh(cy))\n",
    "\n",
    "        return (hy, cy)"
   ],
   "metadata": {
    "collapsed": false,
    "ExecuteTime": {
     "end_time": "2023-09-20T07:19:51.024841400Z",
     "start_time": "2023-09-20T07:19:50.984904100Z"
    }
   },
   "id": "c1343f4c44d61fa2"
  },
  {
   "cell_type": "code",
   "execution_count": 32,
   "outputs": [],
   "source": [
    "class LSTMModel(nn.Module):\n",
    "    def __init__(self, input_dim, hidden_dim, layer_dim, output_dim, bias=True):\n",
    "        super(LSTMModel, self).__init__()\n",
    "\n",
    "        self.hidden_dim = hidden_dim\n",
    "        self.layer_dim = layer_dim\n",
    "\n",
    "        self.lstm = LSTMCell(input_dim, hidden_dim, layer_dim)\n",
    "\n",
    "        self.fc = nn.Linear(hidden_dim, output_dim)\n",
    "\n",
    "    def forward(self, x):\n",
    "        h0 = torch.zeros(self.layer_dim, x.size(0), self.hidden_dim).requires_grad_().to(device)\n",
    "        c0 = torch.zeros(self.layer_dim, x.size(0), self.hidden_dim).requires_grad_().to(device)\n",
    "\n",
    "        outs = []\n",
    "\n",
    "        cn = c0[0, :, :]\n",
    "        hn = h0[0, :, :]\n",
    "\n",
    "        for seq in range(x.size(1)):\n",
    "            hn, cn = self.lstm(x[:, seq, :], (hn, cn))\n",
    "            outs.append(hn)\n",
    "\n",
    "        out = outs[-1].squeeze()\n",
    "\n",
    "        out = self.fc(out)\n",
    "\n",
    "        return out"
   ],
   "metadata": {
    "collapsed": false,
    "ExecuteTime": {
     "end_time": "2023-09-20T07:19:51.054536200Z",
     "start_time": "2023-09-20T07:19:51.027908100Z"
    }
   },
   "id": "f1c8c38acd4bbe02"
  },
  {
   "cell_type": "code",
   "execution_count": 33,
   "outputs": [],
   "source": [
    "input_dim = 28\n",
    "hidden_dim = 128\n",
    "layer_dim = 1\n",
    "output_dim = 10\n",
    "\n",
    "model = LSTMModel(input_dim, hidden_dim, layer_dim, output_dim)\n",
    "model.to(device)\n",
    "\n",
    "criterion = nn.CrossEntropyLoss()\n",
    "learning_rate = 0.1\n",
    "optimizer = torch.optim.SGD(model.parameters(), lr=learning_rate)"
   ],
   "metadata": {
    "collapsed": false,
    "ExecuteTime": {
     "end_time": "2023-09-20T07:19:51.077356900Z",
     "start_time": "2023-09-20T07:19:51.055537700Z"
    }
   },
   "id": "ceebd4582849ced3"
  },
  {
   "cell_type": "code",
   "execution_count": 34,
   "outputs": [
    {
     "name": "stdout",
     "output_type": "stream",
     "text": [
      "Iteration: 500. Loss: 2.237457275390625. Accuracy: 21.420000076293945\n",
      "Iteration: 1000. Loss: 0.9093605875968933. Accuracy: 75.72000122070312\n",
      "Iteration: 1500. Loss: 0.4703645706176758. Accuracy: 87.77999877929688\n",
      "Iteration: 2000. Loss: 0.2919614911079407. Accuracy: 93.33000183105469\n",
      "Iteration: 2500. Loss: 0.14118364453315735. Accuracy: 93.83999633789062\n",
      "Iteration: 3000. Loss: 0.08196574449539185. Accuracy: 96.5\n",
      "Iteration: 3500. Loss: 0.09124790877103806. Accuracy: 95.87999725341797\n",
      "Iteration: 4000. Loss: 0.0626092329621315. Accuracy: 97.12000274658203\n",
      "Iteration: 4500. Loss: 0.046092256903648376. Accuracy: 97.25\n",
      "Iteration: 5000. Loss: 0.09187523275613785. Accuracy: 96.94999694824219\n",
      "Iteration: 5500. Loss: 0.09047114104032516. Accuracy: 97.30000305175781\n",
      "Iteration: 6000. Loss: 0.023957697674632072. Accuracy: 97.80999755859375\n",
      "Iteration: 6500. Loss: 0.01368747465312481. Accuracy: 97.55000305175781\n",
      "Iteration: 7000. Loss: 0.020472373813390732. Accuracy: 97.8499984741211\n",
      "Iteration: 7500. Loss: 0.037078872323036194. Accuracy: 97.93000030517578\n",
      "Iteration: 8000. Loss: 0.05983703210949898. Accuracy: 97.97000122070312\n",
      "Iteration: 8500. Loss: 0.011221135035157204. Accuracy: 98.02999877929688\n",
      "Iteration: 9000. Loss: 0.025517933070659637. Accuracy: 97.83000183105469\n"
     ]
    }
   ],
   "source": [
    "seq_dim = 28\n",
    "loss_list = []\n",
    "iter = 0\n",
    "\n",
    "for epoch in range(num_epochs):\n",
    "    for i, (images, labels) in enumerate(train_loader):\n",
    "        images = Variable(images.view(-1, seq_dim, input_dim).to(device))\n",
    "        labels = Variable(labels.to(device))\n",
    "\n",
    "        optimizer.zero_grad()\n",
    "        outputs = model(images)\n",
    "        loss = criterion(outputs, labels)\n",
    "\n",
    "        loss.backward()\n",
    "        optimizer.step()\n",
    "        loss_list.append(loss.item())\n",
    "        iter += 1\n",
    "\n",
    "        if iter % 500 == 0:\n",
    "            correct = 0\n",
    "            total = 0\n",
    "\n",
    "            for images, labels in vali_loader:\n",
    "                images = Variable(images.view(-1, seq_dim, input_dim).to(device))\n",
    "                outputs = model(images)\n",
    "                _, predicted = torch.max(outputs.data, 1)\n",
    "\n",
    "                total += labels.size(0)\n",
    "\n",
    "                correct += (predicted.cpu() == labels.cpu()).sum()\n",
    "\n",
    "            accuracy = 100 * correct / total\n",
    "\n",
    "            print(\"Iteration: {}. Loss: {}. Accuracy: {}\".format(iter, loss.item(), accuracy))"
   ],
   "metadata": {
    "collapsed": false,
    "ExecuteTime": {
     "end_time": "2023-09-20T07:27:02.467682100Z",
     "start_time": "2023-09-20T07:19:51.070245800Z"
    }
   },
   "id": "ab6d36e5d733545d"
  },
  {
   "cell_type": "code",
   "execution_count": 43,
   "outputs": [],
   "source": [
    "def evaluate(model, val_iter):\n",
    "    corrects, total, total_loss = 0, 0, 0\n",
    "\n",
    "    model.eval()\n",
    "\n",
    "    for images, labels in val_iter:\n",
    "        images = Variable(images.view(-1, seq_dim, input_dim).to(device))\n",
    "        labels = labels.to(device)  # move labels to the same device as the model\n",
    "\n",
    "        logits = model(images)\n",
    "        loss = functional.cross_entropy(logits, labels, reduction='sum')\n",
    "        total += labels.size(0)\n",
    "        total_loss += loss.item()\n",
    "        corrects += (logits.argmax(1) == labels).sum()\n",
    "\n",
    "    avg_loss = total_loss / len(val_iter.dataset)\n",
    "    avg_acc = corrects / total\n",
    "\n",
    "    return avg_loss, avg_acc"
   ],
   "metadata": {
    "collapsed": false,
    "ExecuteTime": {
     "end_time": "2023-09-20T07:34:38.393914500Z",
     "start_time": "2023-09-20T07:34:38.373332800Z"
    }
   },
   "id": "6be6ebeb920f25d"
  },
  {
   "cell_type": "code",
   "execution_count": 44,
   "outputs": [
    {
     "name": "stdout",
     "output_type": "stream",
     "text": [
      "Test Loss: 0.0597270193759352, Test Accuracy: 0.9803999662399292\n"
     ]
    }
   ],
   "source": [
    "test_loss, test_acc = evaluate(model, test_loader)\n",
    "print(\"Test Loss: {}, Test Accuracy: {}\".format(test_loss, test_acc))"
   ],
   "metadata": {
    "collapsed": false,
    "ExecuteTime": {
     "end_time": "2023-09-20T07:34:42.866194400Z",
     "start_time": "2023-09-20T07:34:39.575638600Z"
    }
   },
   "id": "816cedb6f5433c11"
  }
 ],
 "metadata": {
  "kernelspec": {
   "display_name": "Python 3",
   "language": "python",
   "name": "python3"
  },
  "language_info": {
   "codemirror_mode": {
    "name": "ipython",
    "version": 2
   },
   "file_extension": ".py",
   "mimetype": "text/x-python",
   "name": "python",
   "nbconvert_exporter": "python",
   "pygments_lexer": "ipython2",
   "version": "2.7.6"
  }
 },
 "nbformat": 4,
 "nbformat_minor": 5
}

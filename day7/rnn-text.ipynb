{
 "cells": [
  {
   "cell_type": "code",
   "execution_count": 17,
   "outputs": [],
   "source": [
    "import time\n",
    "\n",
    "import torch\n",
    "import torch.nn as nn\n",
    "import torchtext\n",
    "\n",
    "import torch.nn.functional as functional"
   ],
   "metadata": {
    "collapsed": false,
    "ExecuteTime": {
     "end_time": "2023-09-20T05:44:17.197362200Z",
     "start_time": "2023-09-20T05:44:17.058351300Z"
    }
   },
   "id": "e4cfee47a9c7e65d"
  },
  {
   "cell_type": "code",
   "execution_count": 18,
   "outputs": [],
   "source": [
    "start = time.time()\n",
    "TEXT = torchtext.data.Field(lower=True, fix_length=200, batch_first=False)\n",
    "LABEL = torchtext.data.Field(sequential=False)"
   ],
   "metadata": {
    "collapsed": false,
    "ExecuteTime": {
     "end_time": "2023-09-20T05:44:17.197882800Z",
     "start_time": "2023-09-20T05:44:17.062685200Z"
    }
   },
   "id": "91400e5deb0ea85"
  },
  {
   "cell_type": "code",
   "execution_count": 19,
   "outputs": [],
   "source": [
    "train_data, test_data = torchtext.datasets.IMDB.splits(TEXT, LABEL)"
   ],
   "metadata": {
    "collapsed": false,
    "ExecuteTime": {
     "end_time": "2023-09-20T05:44:22.793622900Z",
     "start_time": "2023-09-20T05:44:17.069411400Z"
    }
   },
   "id": "a9faf825c27750a7"
  },
  {
   "cell_type": "code",
   "execution_count": 20,
   "outputs": [
    {
     "name": "stdout",
     "output_type": "stream",
     "text": [
      "{'text': ['bromwell', 'high', 'is', 'a', 'cartoon', 'comedy.', 'it', 'ran', 'at', 'the', 'same', 'time', 'as', 'some', 'other', 'programs', 'about', 'school', 'life,', 'such', 'as', '\"teachers\".', 'my', '35', 'years', 'in', 'the', 'teaching', 'profession', 'lead', 'me', 'to', 'believe', 'that', 'bromwell', \"high's\", 'satire', 'is', 'much', 'closer', 'to', 'reality', 'than', 'is', '\"teachers\".', 'the', 'scramble', 'to', 'survive', 'financially,', 'the', 'insightful', 'students', 'who', 'can', 'see', 'right', 'through', 'their', 'pathetic', \"teachers'\", 'pomp,', 'the', 'pettiness', 'of', 'the', 'whole', 'situation,', 'all', 'remind', 'me', 'of', 'the', 'schools', 'i', 'knew', 'and', 'their', 'students.', 'when', 'i', 'saw', 'the', 'episode', 'in', 'which', 'a', 'student', 'repeatedly', 'tried', 'to', 'burn', 'down', 'the', 'school,', 'i', 'immediately', 'recalled', '.........', 'at', '..........', 'high.', 'a', 'classic', 'line:', 'inspector:', \"i'm\", 'here', 'to', 'sack', 'one', 'of', 'your', 'teachers.', 'student:', 'welcome', 'to', 'bromwell', 'high.', 'i', 'expect', 'that', 'many', 'adults', 'of', 'my', 'age', 'think', 'that', 'bromwell', 'high', 'is', 'far', 'fetched.', 'what', 'a', 'pity', 'that', 'it', \"isn't!\"], 'label': 'pos'}\n"
     ]
    }
   ],
   "source": [
    "print(vars(train_data.examples[0]))"
   ],
   "metadata": {
    "collapsed": false,
    "ExecuteTime": {
     "end_time": "2023-09-20T05:44:22.796859Z",
     "start_time": "2023-09-20T05:44:22.792621900Z"
    }
   },
   "id": "338cfa957bb1e85f"
  },
  {
   "cell_type": "code",
   "execution_count": 21,
   "outputs": [],
   "source": [
    "import string\n",
    "\n",
    "for exam in train_data.examples:\n",
    "    text = [x.lower() for x in vars(exam)[\"text\"]]\n",
    "    text = [x.replace(\"<br\", \"\") for x in text]\n",
    "    text = [\"\".join(c for c in x if c not in string.punctuation) for x in text]\n",
    "    text = [s for s in text if s]\n",
    "    vars(exam)[\"text\"] = text"
   ],
   "metadata": {
    "collapsed": false,
    "ExecuteTime": {
     "end_time": "2023-09-20T05:44:27.760470900Z",
     "start_time": "2023-09-20T05:44:22.798098400Z"
    }
   },
   "id": "ba0c93589fcce7da"
  },
  {
   "cell_type": "code",
   "execution_count": 22,
   "outputs": [],
   "source": [
    "import random\n",
    "\n",
    "train_data, valid_data = train_data.split(random_state=random.seed(0), split_ratio=0.8)"
   ],
   "metadata": {
    "collapsed": false,
    "ExecuteTime": {
     "end_time": "2023-09-20T05:44:27.771543200Z",
     "start_time": "2023-09-20T05:44:27.677787Z"
    }
   },
   "id": "61e015ed24413d9b"
  },
  {
   "cell_type": "code",
   "execution_count": 23,
   "outputs": [
    {
     "name": "stdout",
     "output_type": "stream",
     "text": [
      "Number of training examples: 20000\n",
      "Number of validation examples: 5000\n",
      "Number of testing examples: 25000\n"
     ]
    }
   ],
   "source": [
    "print(f\"Number of training examples: {len(train_data)}\")\n",
    "print(f\"Number of validation examples: {len(valid_data)}\")\n",
    "print(f\"Number of testing examples: {len(test_data)}\")"
   ],
   "metadata": {
    "collapsed": false,
    "ExecuteTime": {
     "end_time": "2023-09-20T05:44:27.777971400Z",
     "start_time": "2023-09-20T05:44:27.703403Z"
    }
   },
   "id": "8782cc5aee142f73"
  },
  {
   "cell_type": "code",
   "execution_count": 24,
   "outputs": [
    {
     "name": "stdout",
     "output_type": "stream",
     "text": [
      "Unique tokens in TEXT vocabulary: 10002\n",
      "Unique tokens in LABEL vocabulary: 3\n"
     ]
    }
   ],
   "source": [
    "TEXT.build_vocab(train_data, max_size=10000, min_freq=10, vectors=None)\n",
    "LABEL.build_vocab(train_data)\n",
    "\n",
    "print(f\"Unique tokens in TEXT vocabulary: {len(TEXT.vocab)}\")\n",
    "print(f\"Unique tokens in LABEL vocabulary: {len(LABEL.vocab)}\")"
   ],
   "metadata": {
    "collapsed": false,
    "ExecuteTime": {
     "end_time": "2023-09-20T05:44:28.712785600Z",
     "start_time": "2023-09-20T05:44:27.707570800Z"
    }
   },
   "id": "5e515064fd42a858"
  },
  {
   "cell_type": "code",
   "execution_count": 25,
   "outputs": [
    {
     "name": "stdout",
     "output_type": "stream",
     "text": [
      "defaultdict(<bound method Vocab._default_unk_index of <torchtext.vocab.Vocab object at 0x000001DE7C697550>>, {'<unk>': 0, 'pos': 1, 'neg': 2})\n"
     ]
    }
   ],
   "source": [
    "print(LABEL.vocab.stoi)"
   ],
   "metadata": {
    "collapsed": false,
    "ExecuteTime": {
     "end_time": "2023-09-20T05:44:28.730347700Z",
     "start_time": "2023-09-20T05:44:28.712785600Z"
    }
   },
   "id": "877575e3f6b808a"
  },
  {
   "cell_type": "code",
   "execution_count": 26,
   "outputs": [],
   "source": [
    "BATCH_SIZE = 64\n",
    "device = torch.device(\"cuda\" if torch.cuda.is_available() else \"cpu\")\n",
    "\n",
    "embedding_dim = 100\n",
    "hidden_size = 300\n",
    "\n",
    "train_iterator, valid_iterator, test_iterator = torchtext.data.BucketIterator.splits(\n",
    "    (train_data, valid_data, test_data),\n",
    "    batch_size=BATCH_SIZE,\n",
    "    device=device\n",
    ")"
   ],
   "metadata": {
    "collapsed": false,
    "ExecuteTime": {
     "end_time": "2023-09-20T05:44:28.916584500Z",
     "start_time": "2023-09-20T05:44:28.717024400Z"
    }
   },
   "id": "1e66de03dcdeb184"
  },
  {
   "cell_type": "code",
   "execution_count": 27,
   "outputs": [],
   "source": [
    "class RNNCell_Encoder(nn.Module):\n",
    "    def __init__(self, input_dim, hidden_size):\n",
    "        super().__init__()\n",
    "        self.rnn = nn.RNNCell(input_dim, hidden_size)\n",
    "\n",
    "    def forward(self, inputs):\n",
    "        bz = inputs.shape[1]\n",
    "        ht = torch.zeros(bz, hidden_size, device=device)\n",
    "        for w in inputs:\n",
    "            ht = self.rnn(w, ht)\n",
    "        return ht\n",
    "\n",
    "\n",
    "class Net(nn.Module):\n",
    "    def __init__(self):\n",
    "        super().__init__()\n",
    "        self.em = nn.Embedding(len(TEXT.vocab.stoi), embedding_dim)\n",
    "        self.rnn = RNNCell_Encoder(embedding_dim, hidden_size)\n",
    "        self.fc1 = nn.Linear(hidden_size, 256)\n",
    "        self.fc2 = nn.Linear(256, 3)\n",
    "\n",
    "    def forward(self, x):\n",
    "        x = self.em(x)\n",
    "        x = self.rnn(x)\n",
    "        x = functional.relu(self.fc1(x))\n",
    "        x = self.fc2(x)\n",
    "        return x"
   ],
   "metadata": {
    "collapsed": false,
    "ExecuteTime": {
     "end_time": "2023-09-20T05:44:28.942605500Z",
     "start_time": "2023-09-20T05:44:28.913934200Z"
    }
   },
   "id": "ce43f48efee4a418"
  },
  {
   "cell_type": "code",
   "execution_count": 28,
   "outputs": [],
   "source": [
    "model = Net()\n",
    "model.to(device)\n",
    "\n",
    "loss_fn = nn.CrossEntropyLoss()\n",
    "optimizer = torch.optim.Adam(model.parameters(), lr=0.0001)"
   ],
   "metadata": {
    "collapsed": false,
    "ExecuteTime": {
     "end_time": "2023-09-20T05:44:28.943651100Z",
     "start_time": "2023-09-20T05:44:28.922353400Z"
    }
   },
   "id": "5be9cdb2262e0b91"
  },
  {
   "cell_type": "code",
   "execution_count": 29,
   "outputs": [],
   "source": [
    "def training(epoch, model, trainloader, validloader):\n",
    "    correct = 0\n",
    "    total = 0\n",
    "    running_loss = 0\n",
    "\n",
    "    model.train()\n",
    "    for b in trainloader:\n",
    "        x, y = b.text, b.label\n",
    "        x, y = x.to(device), y.to(device)\n",
    "        y_pred = model(x)\n",
    "        loss = loss_fn(y_pred, y)\n",
    "        optimizer.zero_grad()\n",
    "        loss.backward()\n",
    "        optimizer.step()\n",
    "        with torch.no_grad():\n",
    "            predicted = torch.argmax(y_pred, dim=1)\n",
    "            correct += (predicted == y).sum().item()\n",
    "            total += y.size(0)\n",
    "            running_loss += loss.item()\n",
    "\n",
    "    epoch_loss = running_loss / len(trainloader)\n",
    "    epoch_acc = correct / total\n",
    "\n",
    "    valid_correct = 0\n",
    "    valid_total = 0\n",
    "    valid_running_loss = 0\n",
    "\n",
    "    model.eval()\n",
    "    with torch.no_grad():\n",
    "        for b in validloader:\n",
    "            x, y = b.text, b.label\n",
    "            x, y = x.to(device), y.to(device)\n",
    "            y_pred = model(x)\n",
    "            loss = loss_fn(y_pred, y)\n",
    "            predicted = torch.argmax(y_pred, dim=1)\n",
    "            valid_correct += (predicted == y).sum().item()\n",
    "            valid_total += y.size(0)\n",
    "            valid_running_loss += loss.item()\n",
    "\n",
    "    epoch_valid_loss = valid_running_loss / len(validloader)\n",
    "    epoch_valid_acc = valid_correct / valid_total\n",
    "\n",
    "    print(\n",
    "        f\"epoch: {epoch}\",\n",
    "        f\"train loss: {epoch_loss:.4f}\",\n",
    "        f\"train acc: {epoch_acc:.4f}\",\n",
    "        f\"valid loss: {epoch_valid_loss:.4f}\",\n",
    "        f\"valid acc: {epoch_valid_acc:.4f}\",\n",
    "    )\n",
    "    return epoch_loss, epoch_acc, epoch_valid_loss, epoch_valid_acc"
   ],
   "metadata": {
    "collapsed": false,
    "ExecuteTime": {
     "end_time": "2023-09-20T05:44:28.961311400Z",
     "start_time": "2023-09-20T05:44:28.934281700Z"
    }
   },
   "id": "53d200cda64ae493"
  },
  {
   "cell_type": "code",
   "execution_count": 30,
   "outputs": [
    {
     "name": "stdout",
     "output_type": "stream",
     "text": [
      "epoch: 0 train loss: 0.7302 train acc: 0.4922 valid loss: 0.6973 valid acc: 0.5046\n",
      "epoch: 1 train loss: 0.6963 train acc: 0.5019 valid loss: 0.6943 valid acc: 0.4944\n",
      "epoch: 2 train loss: 0.6944 train acc: 0.5121 valid loss: 0.7066 valid acc: 0.4938\n",
      "epoch: 3 train loss: 0.6940 train acc: 0.5141 valid loss: 0.7025 valid acc: 0.4918\n",
      "epoch: 4 train loss: 0.6920 train acc: 0.5184 valid loss: 0.7000 valid acc: 0.5116\n",
      "Time: 359.28865933418274\n"
     ]
    }
   ],
   "source": [
    "epochs = 5\n",
    "train_loss = []\n",
    "train_acc = []\n",
    "valid_loss = []\n",
    "valid_acc = []\n",
    "\n",
    "for epoch in range(epochs):\n",
    "    loss, acc, v_loss, v_acc = training(epoch, model, train_iterator, valid_iterator)\n",
    "    train_loss.append(loss)\n",
    "    train_acc.append(acc)\n",
    "    valid_loss.append(v_loss)\n",
    "    valid_acc.append(v_acc)\n",
    "\n",
    "end = time.time()\n",
    "print(f\"Time: {end - start}\")"
   ],
   "metadata": {
    "collapsed": false,
    "ExecuteTime": {
     "end_time": "2023-09-20T05:50:16.364814200Z",
     "start_time": "2023-09-20T05:44:28.944686300Z"
    }
   },
   "id": "d4d40861b27b803c"
  },
  {
   "cell_type": "code",
   "execution_count": 31,
   "outputs": [],
   "source": [
    "def evaluate(epoch, model, testloader):\n",
    "    correct = 0\n",
    "    total = 0\n",
    "    running_loss = 0\n",
    "\n",
    "    model.eval()\n",
    "    with torch.no_grad():\n",
    "        for b in testloader:\n",
    "            x, y = b.text, b.label\n",
    "            x, y = x.to(device), y.to(device)\n",
    "            y_pred = model(x)\n",
    "            loss = loss_fn(y_pred, y)\n",
    "            predicted = torch.argmax(y_pred, dim=1)\n",
    "            correct += (predicted == y).sum().item()\n",
    "            total += y.size(0)\n",
    "            running_loss += loss.item()\n",
    "\n",
    "    epoch_loss = running_loss / len(testloader)\n",
    "    epoch_acc = correct / total\n",
    "\n",
    "    print(\n",
    "        f\"epoch: {epoch}\",\n",
    "        f\"test loss: {epoch_loss:.4f}\",\n",
    "        f\"test acc: {epoch_acc:.4f}\",\n",
    "    )\n",
    "    return epoch_loss, epoch_acc"
   ],
   "metadata": {
    "collapsed": false,
    "ExecuteTime": {
     "end_time": "2023-09-20T05:50:16.364814200Z",
     "start_time": "2023-09-20T05:50:16.362307600Z"
    }
   },
   "id": "20361f965db93c50"
  },
  {
   "cell_type": "code",
   "execution_count": 32,
   "outputs": [
    {
     "name": "stdout",
     "output_type": "stream",
     "text": [
      "epoch: 0 test loss: 0.7010 test acc: 0.5023\n",
      "epoch: 1 test loss: 0.7010 test acc: 0.5023\n",
      "epoch: 2 test loss: 0.7010 test acc: 0.5023\n",
      "epoch: 3 test loss: 0.7010 test acc: 0.5023\n",
      "epoch: 4 test loss: 0.7010 test acc: 0.5023\n",
      "Time: 464.08869791030884\n"
     ]
    }
   ],
   "source": [
    "epoch = 5\n",
    "test_loss = []\n",
    "test_acc = []\n",
    "\n",
    "for epoch in range(epochs):\n",
    "    loss, acc = evaluate(epoch, model, test_iterator)\n",
    "    test_loss.append(loss)\n",
    "    test_acc.append(acc)\n",
    "    \n",
    "end = time.time()\n",
    "print(f\"Time: {end - start}\")"
   ],
   "metadata": {
    "collapsed": false,
    "ExecuteTime": {
     "end_time": "2023-09-20T05:52:01.271170200Z",
     "start_time": "2023-09-20T05:50:16.366317200Z"
    }
   },
   "id": "17ecacace1074f38"
  }
 ],
 "metadata": {
  "kernelspec": {
   "display_name": "Python 3",
   "language": "python",
   "name": "python3"
  },
  "language_info": {
   "codemirror_mode": {
    "name": "ipython",
    "version": 2
   },
   "file_extension": ".py",
   "mimetype": "text/x-python",
   "name": "python",
   "nbconvert_exporter": "python",
   "pygments_lexer": "ipython2",
   "version": "2.7.6"
  }
 },
 "nbformat": 4,
 "nbformat_minor": 5
}

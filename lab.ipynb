{
 "cells": [
  {
   "cell_type": "code",
   "execution_count": 1,
   "outputs": [
    {
     "name": "stdout",
     "output_type": "stream",
     "text": [
      "CUDA is available :  True\n",
      "GPU count :  1\n",
      "GPU name :  NVIDIA GeForce RTX 3060 Laptop GPU\n"
     ]
    }
   ],
   "source": [
    "import torch\n",
    "\n",
    "print(\"CUDA is available : \", torch.cuda.is_available())\n",
    "print(\"GPU count : \", torch.cuda.device_count())\n",
    "for gpu in range(torch.cuda.device_count()):\n",
    "    print(\"GPU name : \", torch.cuda.get_device_name(gpu))"
   ],
   "metadata": {
    "collapsed": false,
    "ExecuteTime": {
     "end_time": "2023-09-11T07:49:08.281371100Z",
     "start_time": "2023-09-11T07:49:06.800305200Z"
    }
   },
   "id": "502fdb7a295b0da7"
  }
 ],
 "metadata": {
  "kernelspec": {
   "display_name": "Python 3",
   "language": "python",
   "name": "python3"
  },
  "language_info": {
   "codemirror_mode": {
    "name": "ipython",
    "version": 2
   },
   "file_extension": ".py",
   "mimetype": "text/x-python",
   "name": "python",
   "nbconvert_exporter": "python",
   "pygments_lexer": "ipython2",
   "version": "2.7.6"
  }
 },
 "nbformat": 4,
 "nbformat_minor": 5
}

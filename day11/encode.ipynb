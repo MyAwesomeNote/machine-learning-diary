{
 "cells": [
  {
   "cell_type": "code",
   "execution_count": 1,
   "id": "initial_id",
   "metadata": {
    "collapsed": true,
    "ExecuteTime": {
     "end_time": "2023-09-26T02:15:31.326575Z",
     "start_time": "2023-09-26T02:15:30.352225Z"
    }
   },
   "outputs": [
    {
     "data": {
      "text/plain": "array([2, 2, 1, 0, 1, 0])"
     },
     "execution_count": 1,
     "metadata": {},
     "output_type": "execute_result"
    }
   ],
   "source": [
    "import pandas as pd\n",
    "from sklearn import preprocessing\n",
    "\n",
    "class2 = pd.read_csv(\"../data/nlp/class2.csv\")\n",
    "\n",
    "label_encoder = preprocessing.LabelEncoder()\n",
    "onehot_encoder = preprocessing.OneHotEncoder()\n",
    "\n",
    "train_x = label_encoder.fit_transform(class2['class2'])\n",
    "\n",
    "train_x"
   ]
  },
  {
   "cell_type": "code",
   "execution_count": 2,
   "outputs": [
    {
     "data": {
      "text/plain": "{'this': 14,\n 'is': 8,\n 'last': 9,\n 'chance': 2,\n 'and': 0,\n 'if': 7,\n 'you': 16,\n 'do': 4,\n 'not': 11,\n 'have': 6,\n 'change': 3,\n 'will': 15,\n 'never': 10,\n 'get': 5,\n 'any': 1,\n 'one': 12,\n 'please': 13}"
     },
     "execution_count": 2,
     "metadata": {},
     "output_type": "execute_result"
    }
   ],
   "source": [
    "from sklearn.feature_extraction.text import CountVectorizer\n",
    "\n",
    "corpus = [\n",
    "    \"This is last chance.\",\n",
    "    \"and if you do not have this change.\",\n",
    "    \"you will never get any change.\",\n",
    "    \"will you do get this one?\",\n",
    "    \"please, get this change\"\n",
    "]\n",
    "\n",
    "vect = CountVectorizer()\n",
    "vect.fit(corpus)\n",
    "vect.vocabulary_"
   ],
   "metadata": {
    "collapsed": false,
    "ExecuteTime": {
     "end_time": "2023-09-26T02:17:50.109641600Z",
     "start_time": "2023-09-26T02:17:50.094865700Z"
    }
   },
   "id": "dc7b568dbcd455a8"
  },
  {
   "cell_type": "code",
   "execution_count": 4,
   "outputs": [
    {
     "data": {
      "text/plain": "array([[0, 1, 0, 1, 0, 1, 0, 0, 0, 0, 1, 0, 0, 0, 0, 1, 1]], dtype=int64)"
     },
     "execution_count": 4,
     "metadata": {},
     "output_type": "execute_result"
    }
   ],
   "source": [
    "vect.transform([\"you will never get any change.\"]).toarray()"
   ],
   "metadata": {
    "collapsed": false,
    "ExecuteTime": {
     "end_time": "2023-09-26T02:20:10.237766700Z",
     "start_time": "2023-09-26T02:20:10.228700600Z"
    }
   },
   "id": "b47b043b00de4a79"
  },
  {
   "cell_type": "code",
   "execution_count": 5,
   "outputs": [
    {
     "data": {
      "text/plain": "{'is': 7,\n 'last': 8,\n 'chance': 1,\n 'if': 6,\n 'you': 13,\n 'do': 3,\n 'not': 10,\n 'have': 5,\n 'change': 2,\n 'will': 12,\n 'never': 9,\n 'get': 4,\n 'any': 0,\n 'one': 11}"
     },
     "execution_count": 5,
     "metadata": {},
     "output_type": "execute_result"
    }
   ],
   "source": [
    "vect = CountVectorizer(stop_words=[\"and\", \"or\", \"please\", \"this\"]).fit(corpus)\n",
    "vect.vocabulary_"
   ],
   "metadata": {
    "collapsed": false,
    "ExecuteTime": {
     "end_time": "2023-09-26T02:21:11.848394300Z",
     "start_time": "2023-09-26T02:21:11.803427600Z"
    }
   },
   "id": "63909fa2364359c3"
  },
  {
   "cell_type": "code",
   "execution_count": 8,
   "outputs": [
    {
     "name": "stdout",
     "output_type": "stream",
     "text": [
      "유사도를 위한 3 x 3 행렬을 만들었습니다.\n"
     ]
    },
    {
     "data": {
      "text/plain": "array([[1.      , 0.224325, 0.      ],\n       [0.224325, 1.      , 0.      ],\n       [0.      , 0.      , 1.      ]])"
     },
     "execution_count": 8,
     "metadata": {},
     "output_type": "execute_result"
    }
   ],
   "source": [
    "from sklearn.feature_extraction.text import TfidfVectorizer\n",
    "\n",
    "doc = [\n",
    "    \"I like machine learning\",\n",
    "    \"I love deep learning\",\n",
    "    \"I run everyday\"\n",
    "]\n",
    "\n",
    "t_vect = TfidfVectorizer(min_df=1)\n",
    "t_matrix = t_vect.fit_transform(doc)\n",
    "\n",
    "doc_distance = (t_matrix * t_matrix.T)\n",
    "print(\"유사도를 위한\", str(doc_distance.get_shape()[0]), \"x\", str(doc_distance.get_shape()[1]), \"행렬을 만들었습니다.\")\n",
    "doc_distance.toarray()"
   ],
   "metadata": {
    "collapsed": false,
    "ExecuteTime": {
     "end_time": "2023-09-26T02:31:46.012242200Z",
     "start_time": "2023-09-26T02:31:46.006495800Z"
    }
   },
   "id": "9b362f500900d0c9"
  },
  {
   "cell_type": "code",
   "execution_count": 3,
   "outputs": [
    {
     "data": {
      "text/plain": "[['once',\n  'upon',\n  'a',\n  'time',\n  'in',\n  'london',\n  ',',\n  'the',\n  'darlings',\n  'went',\n  'out',\n  'to',\n  'a',\n  'dinner',\n  'party',\n  'leaving',\n  'their',\n  'three',\n  'children',\n  'wendy',\n  ',',\n  'jhon',\n  ',',\n  'and',\n  'michael',\n  'at',\n  'home',\n  '.'],\n ['after',\n  'wendy',\n  'had',\n  'tucked',\n  'her',\n  'younger',\n  'brothers',\n  'jhon',\n  'and',\n  'michael',\n  'to',\n  'bed',\n  ',',\n  'she',\n  'went',\n  'to',\n  'read',\n  'a',\n  'book',\n  '.'],\n ['she', 'heard', 'a', 'boy', 'sobbing', 'outside', 'her', 'window', '.'],\n ['he', 'was', 'flying', '.'],\n ['there', 'was', 'little', 'fairy', 'fluttering', 'around', 'him', '.'],\n ['wendy', 'opened', 'the', 'window', 'to', 'talk', 'to', 'him', '.'],\n ['“', 'hello', '!'],\n ['who', 'are', 'you', '?'],\n ['why', 'are', 'you', 'crying', '”', ',', 'wendy', 'asked', 'him', '.'],\n ['“', 'my', 'name', 'is', 'peter', 'pan', '.'],\n ['my',\n  'shadow',\n  'wouldn',\n  '’',\n  't',\n  'stock',\n  'to',\n  'me.',\n  '”',\n  ',',\n  'he',\n  'replied',\n  '.'],\n ['she', 'asked', 'him', 'to', 'come', 'in', '.'],\n ['peter', 'agreed', 'and', 'came', 'inside', 'the', 'room', '.'],\n ['wendy',\n  'took',\n  'his',\n  'shadow',\n  'and',\n  'sewed',\n  'it',\n  'to',\n  'his',\n  'shoe',\n  'tips',\n  '.'],\n ['now',\n  'his',\n  'shadow',\n  'followed',\n  'him',\n  'wherever',\n  'peter',\n  'pan',\n  'went',\n  '!'],\n ['he',\n  'was',\n  'delighted',\n  'and',\n  'asked',\n  'wendy',\n  '“',\n  'why',\n  'don',\n  '’',\n  't',\n  'you',\n  'come',\n  'with',\n  'me',\n  'to',\n  'my',\n  'home',\n  '.'],\n ['the', 'neverland', '.'],\n ['i',\n  'lived',\n  'there',\n  'with',\n  'my',\n  'fairy',\n  'tinker',\n  'bell.',\n  '”',\n  'wendy',\n  '?'],\n ['“', 'oh', '!'],\n ['what', 'a', 'wonderful', 'idea', '!'],\n ['let', 'me', 'wake', 'up', 'john', 'and', 'micheal', 'too', '.'],\n ['could', 'you', 'teach', 'us', 'how', 'to', 'fly', '?', '”', '.'],\n ['“', 'yes', '!'],\n ['of', 'course', '!'],\n ['get',\n  'them',\n  'we',\n  'will',\n  'all',\n  'fly',\n  'together.',\n  '”',\n  'peter',\n  'pan',\n  'replied',\n  'and',\n  'so',\n  'it',\n  'was',\n  '.'],\n ['five',\n  'little',\n  'figures',\n  'flew',\n  'out',\n  'of',\n  'the',\n  'window',\n  'of',\n  'the',\n  'darlings',\n  'and',\n  'headed',\n  'towards',\n  'neverland',\n  '.'],\n ['as',\n  'they',\n  'flew',\n  'over',\n  'the',\n  'island',\n  ',',\n  'peter',\n  'pan',\n  'told',\n  'the',\n  'children',\n  'more',\n  'about',\n  'his',\n  'homeland',\n  '.'],\n ['“',\n  'all',\n  'the',\n  'children',\n  'who',\n  'get',\n  'lost',\n  'come',\n  'and',\n  'stay',\n  'with',\n  'tinker',\n  'bell',\n  'and',\n  'me',\n  ',',\n  '”',\n  'peter',\n  'told',\n  'them',\n  '.'],\n ['the', 'indians', 'also', 'live', 'in', 'neverland', '.'],\n ['the',\n  'mermaids',\n  'live',\n  'in',\n  'the',\n  'lagoon',\n  'around',\n  'the',\n  'island',\n  '.'],\n ['and',\n  'a',\n  'very',\n  'mean',\n  'pirate',\n  'called',\n  'captain',\n  'hook',\n  'keeps',\n  'troubling',\n  'everyone',\n  '.'],\n ['“', 'crocodile', 'bit', 'his', 'one', 'arm', '.'],\n ['so',\n  'the',\n  'captain',\n  'had',\n  'to',\n  'put',\n  'a',\n  'hook',\n  'in',\n  'its',\n  'place',\n  '.'],\n ['since', 'then', 'he', 'is', 'afraid', 'of', 'crocodiles', '.'],\n ['and', 'rightly', 'so', '!'],\n ['if',\n  'the',\n  'crocodile',\n  'ever',\n  'found',\n  'captain',\n  'hook',\n  'it',\n  'will',\n  'eat',\n  'up',\n  'the',\n  'rest',\n  'of',\n  'it',\n  'couldn',\n  '’',\n  't',\n  'eat',\n  'last',\n  'time.',\n  '”',\n  'peter',\n  'told',\n  'them',\n  '.'],\n ['soon', 'they', 'landed', 'on', 'the', 'island', '.'],\n ['and',\n  'to',\n  'the',\n  'surprise',\n  'of',\n  'wendy',\n  ',',\n  'jhon',\n  'and',\n  'michael',\n  ',',\n  'peter',\n  'pan',\n  'let',\n  'them',\n  'in',\n  'through',\n  'a',\n  'small',\n  'opening',\n  'in',\n  'a',\n  'tree',\n  '.'],\n ['inside',\n  'the',\n  'tree',\n  'was',\n  'a',\n  'large',\n  'room',\n  'with',\n  'children',\n  'inside',\n  'it',\n  '.'],\n ['somewhere',\n  'huddled',\n  'by',\n  'the',\n  'fire',\n  'in',\n  'the',\n  'corner',\n  'and',\n  'somewhere',\n  'playing',\n  'amongst',\n  'themselves',\n  '.'],\n ['their',\n  'faces',\n  'lit',\n  'up',\n  'when',\n  'they',\n  'saw',\n  'peter',\n  'pan',\n  ',',\n  'tinker',\n  'bell',\n  ',',\n  'and',\n  'their',\n  'guests',\n  '.'],\n ['“', 'hello', 'everyone', '.'],\n ['this', 'is', 'wendy', ',', 'jhon', ',', 'and', 'michael', '.'],\n ['they',\n  'will',\n  'be',\n  'staying',\n  'with',\n  'us',\n  'from',\n  'now',\n  'on.',\n  '”',\n  'peter',\n  'pan',\n  'introduced',\n  'them',\n  'to',\n  'all',\n  'children',\n  '.'],\n ['children', 'welcomed', 'wendy', ',', 'jhon', ',', 'and', 'michael', '.'],\n ['a', 'few', 'days', 'passed', '.'],\n ['and', 'they', 'settled', 'into', 'a', 'routine', '.'],\n ['wendy',\n  'would',\n  'take',\n  'care',\n  'of',\n  'all',\n  'the',\n  'children',\n  'in',\n  'the',\n  'day',\n  'and',\n  'would',\n  'go',\n  'out',\n  'with',\n  'peter',\n  'pan',\n  'and',\n  'her',\n  'brothers',\n  'in',\n  'the',\n  'evening',\n  'to',\n  'learn',\n  'about',\n  'the',\n  'island',\n  '.'],\n ['she',\n  'would',\n  'cook',\n  'for',\n  'them',\n  'and',\n  'stitch',\n  'new',\n  'clothes',\n  'for',\n  'them',\n  '.'],\n ['he',\n  'even',\n  'made',\n  'a',\n  'lovely',\n  'new',\n  'dress',\n  'for',\n  'tinker',\n  'bell',\n  '.'],\n ['one',\n  'evening',\n  ',',\n  'as',\n  'they',\n  'were',\n  'out',\n  'exploring',\n  'the',\n  'island',\n  'peter',\n  'pan',\n  'warned',\n  'everyone',\n  'and',\n  'said',\n  ',',\n  '“',\n  'hide',\n  '!'],\n ['hide', '!'],\n ['pirates', '!'],\n ['and',\n  'they',\n  'have',\n  'kidnapped',\n  'the',\n  'indian',\n  'princess',\n  'tiger',\n  'lily',\n  '.'],\n ['they',\n  'have',\n  'kept',\n  'her',\n  'there',\n  ',',\n  'tied',\n  'up',\n  'by',\n  'the',\n  'rocks',\n  ',',\n  'near',\n  'the',\n  'water.',\n  '”',\n  'peter',\n  'was',\n  'afraid',\n  'and',\n  'the',\n  'princess',\n  'would',\n  'drown',\n  ',',\n  'is',\n  'she',\n  'fell',\n  'into',\n  'the',\n  'water',\n  '.'],\n ['so',\n  ',',\n  'in',\n  'a',\n  'voice',\n  'that',\n  'sounded',\n  'like',\n  'captain',\n  'hook',\n  ',',\n  'he',\n  'shouted',\n  'instructions',\n  'to',\n  'the',\n  'pirates',\n  'who',\n  'guarded',\n  'her',\n  ',',\n  '“',\n  'you',\n  'fools',\n  '!'],\n ['let', 'her', 'go', 'at', 'once', '!'],\n ['do',\n  'it',\n  'before',\n  'i',\n  'come',\n  'there',\n  'or',\n  'else',\n  'i',\n  'will',\n  'throw',\n  'each',\n  'one',\n  'of',\n  'you',\n  'into',\n  'the',\n  'water.',\n  '”',\n  'the',\n  'pirates',\n  'got',\n  'scared',\n  'and',\n  'immediately',\n  'released',\n  'the',\n  'princes',\n  '.'],\n ['she',\n  'quickly',\n  'dived',\n  'into',\n  'the',\n  'water',\n  'and',\n  'swam',\n  'to',\n  'the',\n  'safety',\n  'of',\n  'her',\n  'home',\n  '.'],\n ['soon',\n  'everyone',\n  'found',\n  'out',\n  'how',\n  'peter',\n  'pan',\n  'had',\n  'rescued',\n  'the',\n  'princess',\n  '.'],\n ['when',\n  'captain',\n  'hook',\n  'found',\n  'out',\n  'how',\n  'peter',\n  'had',\n  'tricked',\n  'his',\n  'men',\n  'he',\n  'was',\n  'furious',\n  '.'],\n ['and', 'swore', 'to', 'have', 'his', 'revenge', '.'],\n ['that',\n  'night',\n  'wendy',\n  'told',\n  'peter',\n  'pan',\n  ',',\n  'that',\n  'she',\n  'and',\n  'her',\n  'brother',\n  'wanted',\n  'to',\n  'go',\n  'back',\n  'home',\n  'since',\n  'they',\n  'missed',\n  'their',\n  'parents',\n  '.'],\n ['she',\n  'said',\n  'if',\n  'the',\n  'lost',\n  'children',\n  'could',\n  'also',\n  'return',\n  'to',\n  'her',\n  'world',\n  'they',\n  'could',\n  'find',\n  'a',\n  'nice',\n  'home',\n  'for',\n  'them',\n  '.'],\n ['peter', 'pan', 'didn', '’', 't', 'want', 'to', 'leave', 'neverland', '.'],\n ['but',\n  'the',\n  'sake',\n  'of',\n  'the',\n  'lost',\n  'children',\n  'he',\n  'agreed',\n  ',',\n  'although',\n  'a',\n  'bit',\n  'sadly',\n  '.'],\n ['he', 'would', 'miss', 'his', 'friends', 'dearly', '.'],\n ['the',\n  'next',\n  'morning',\n  'all',\n  'the',\n  'lost',\n  'children',\n  'left',\n  'with',\n  'wendy',\n  ',',\n  'jhon',\n  ',',\n  'and',\n  'michael',\n  '.'],\n ['but',\n  'on',\n  'the',\n  'way',\n  ',',\n  'captain',\n  'hook',\n  'and',\n  'his',\n  'men',\n  'kidnapped',\n  'all',\n  'of',\n  'them',\n  '.'],\n ['he',\n  'tied',\n  'them',\n  'and',\n  'kept',\n  'them',\n  'on',\n  'once',\n  'of',\n  'his',\n  'ships',\n  '.'],\n ['as',\n  'soon',\n  'as',\n  'peter',\n  'found',\n  'out',\n  'about',\n  'it',\n  'he',\n  'rushed',\n  'to',\n  'the',\n  'ship',\n  '.'],\n ['he',\n  'swung',\n  'himself',\n  'from',\n  'a',\n  'tress',\n  'branch',\n  'and',\n  'on',\n  'to',\n  'the',\n  'deck',\n  'of',\n  'the',\n  'ship',\n  'where',\n  'all',\n  'the',\n  'children',\n  'were',\n  'tied',\n  'up',\n  '.'],\n ['he',\n  'swung',\n  'his',\n  'sword',\n  'bravely',\n  'and',\n  'threw',\n  'over',\n  'the',\n  'pirates',\n  'who',\n  'tried',\n  'to',\n  'stop',\n  'him',\n  '.'],\n ['quickly',\n  'he',\n  'released',\n  'everyone',\n  'from',\n  'their',\n  'captor',\n  '’',\n  's',\n  'ties',\n  '.'],\n ['wendy',\n  ',',\n  'jhon',\n  ',',\n  'michael',\n  'and',\n  'tinker',\n  'bell',\n  'helped',\n  'all',\n  'the',\n  'children',\n  'into',\n  'the',\n  'water',\n  ',',\n  'where',\n  'their',\n  'friends',\n  'from',\n  'the',\n  'indian',\n  'camp',\n  'were',\n  'ready',\n  'with',\n  'smaller',\n  'boats',\n  'to',\n  'take',\n  'them',\n  'to',\n  'safety',\n  'peter',\n  'pan',\n  'now',\n  'went',\n  'looking',\n  'for',\n  'captain',\n  'hook',\n  '.'],\n ['“',\n  'let',\n  'us',\n  'finished',\n  'this',\n  'forever',\n  'mr.',\n  'hook',\n  '”',\n  ',',\n  'peter',\n  'challenged',\n  'captain',\n  'hook',\n  '.'],\n ['“', 'yes', '!'],\n ['peter',\n  'pan',\n  ',',\n  'you',\n  'have',\n  'caused',\n  'me',\n  'enough',\n  'trouble',\n  '.'],\n ['it',\n  'is',\n  'time',\n  'that',\n  'we',\n  'finished',\n  'this.',\n  '”',\n  'hook',\n  'replied',\n  '.'],\n ['with',\n  'his',\n  'sword',\n  'drawn',\n  ',',\n  'he',\n  'raced',\n  'towards',\n  'peter',\n  'pan',\n  '.'],\n ['quick',\n  'on',\n  'his',\n  'feet',\n  ',',\n  'peter',\n  'pan',\n  'stepped',\n  'aside',\n  'and',\n  'pushed',\n  'hook',\n  'inside',\n  'the',\n  'sea',\n  'where',\n  'the',\n  'crocodile',\n  'was',\n  'waiting',\n  'to',\n  'eat',\n  'the',\n  'rest',\n  'of',\n  'hook',\n  '.'],\n ['everyone',\n  'rejoiced',\n  'as',\n  'captain',\n  'hook',\n  'was',\n  'out',\n  'of',\n  'their',\n  'lives',\n  'forever',\n  '.'],\n ['everybody', 'headed', 'back', 'to', 'london', '.'],\n ['mr.', 'and', 'mrs', '.'],\n ['darling',\n  'was',\n  'so',\n  'happy',\n  'to',\n  'see',\n  'their',\n  'children',\n  'and',\n  'they',\n  'agreed',\n  'to',\n  'adopt',\n  'the',\n  'lost',\n  'children',\n  '.'],\n ['they',\n  'even',\n  'asked',\n  'peter',\n  'pan',\n  'to',\n  'come',\n  'and',\n  'live',\n  'with',\n  'them',\n  '.'],\n ['but',\n  'peter',\n  'pan',\n  'said',\n  ',',\n  'he',\n  'never',\n  'wanted',\n  'to',\n  'grow',\n  'up',\n  ',',\n  'so',\n  'he',\n  'and',\n  'tinker',\n  'bell',\n  'will',\n  'go',\n  'back',\n  'to',\n  'neverland',\n  '.'],\n ['peter',\n  'pan',\n  'promised',\n  'everyone',\n  'that',\n  'he',\n  'will',\n  'visit',\n  'again',\n  'sometime',\n  '!'],\n ['and',\n  'he',\n  'flew',\n  'out',\n  'of',\n  'the',\n  'window',\n  'with',\n  'tinker',\n  'bell',\n  'by',\n  'his',\n  'side',\n  '.']]"
     },
     "execution_count": 3,
     "metadata": {},
     "output_type": "execute_result"
    }
   ],
   "source": [
    "from nltk.tokenize import sent_tokenize, word_tokenize\n",
    "\n",
    "from gensim.models import Word2Vec\n",
    "\n",
    "import warnings\n",
    "\n",
    "warnings.filterwarnings(action='ignore')\n",
    "\n",
    "sample = open(\"../data/nlp/peter.txt\", \"r\", encoding=\"utf-8\")\n",
    "s = sample.read()\n",
    "\n",
    "f = s.replace(\"\\n\", \" \")\n",
    "data = []\n",
    "\n",
    "for i in sent_tokenize(f):\n",
    "    tmp = []\n",
    "    for j in word_tokenize(i):\n",
    "        tmp.append(j.lower())\n",
    "    data.append(tmp)\n",
    "\n",
    "data"
   ],
   "metadata": {
    "collapsed": false,
    "ExecuteTime": {
     "end_time": "2023-09-26T05:12:20.040164300Z",
     "start_time": "2023-09-26T05:12:19.585182900Z"
    }
   },
   "id": "e22da245962569b2"
  },
  {
   "cell_type": "code",
   "execution_count": 7,
   "outputs": [
    {
     "name": "stdout",
     "output_type": "stream",
     "text": [
      "Cosine similarity between 'peter' 'wendy' - CBOW :  0.074393824\n",
      "Cosine similarity between 'peter' 'wendy' - Skip Gram :  0.40088683\n"
     ]
    }
   ],
   "source": [
    "model1 = Word2Vec(data, min_count=1, vector_size=100, window=5, sg=0)\n",
    "\n",
    "print(\"Cosine similarity between 'peter' 'wendy' - CBOW : \", model1.similarity('peter', 'wendy'))"
   ],
   "metadata": {
    "collapsed": false,
    "ExecuteTime": {
     "end_time": "2023-09-26T05:12:55.677766600Z",
     "start_time": "2023-09-26T05:12:55.624082400Z"
    }
   },
   "id": "c3e43b19f2bd56fd"
  },
  {
   "cell_type": "code",
   "execution_count": 8,
   "outputs": [
    {
     "name": "stdout",
     "output_type": "stream",
     "text": [
      "[('scienc', 0.35739946365356445), ('science', 0.2760446071624756), ('think', 0.217257559299469), ('client', 0.19491459429264069), ('part', 0.19050131738185883), ('util', 0.18476800620555878), ('analsis', 0.1737504005432129), ('intern', 0.15601569414138794), ('domain', 0.15585266053676605), ('group', 0.14942587912082672)]\n"
     ]
    }
   ],
   "source": [
    "model2 = Word2Vec(data, min_count=1, vector_size=100, window=5, sg=1)\n",
    "print(\"Cosine similarity between 'peter' 'wendy' - Skip Gram : \", model2.similarity('peter', 'wendy'))"
   ],
   "metadata": {
    "collapsed": false,
    "ExecuteTime": {
     "end_time": "2023-09-26T05:13:53.901376500Z",
     "start_time": "2023-09-26T05:13:53.088493700Z"
    }
   },
   "id": "35ceeb7554a844ec"
  },
  {
   "cell_type": "code",
   "execution_count": 1,
   "outputs": [
    {
     "ename": "AttributeError",
     "evalue": "'FastText' object has no attribute 'iter'",
     "output_type": "error",
     "traceback": [
      "\u001B[1;31m---------------------------------------------------------------------------\u001B[0m",
      "\u001B[1;31mAttributeError\u001B[0m                            Traceback (most recent call last)",
      "Cell \u001B[1;32mIn[1], line 22\u001B[0m\n\u001B[0;32m     19\u001B[0m model \u001B[38;5;241m=\u001B[39m ft_gensim(window\u001B[38;5;241m=\u001B[39m\u001B[38;5;241m5\u001B[39m, min_count\u001B[38;5;241m=\u001B[39m\u001B[38;5;241m1\u001B[39m, workers\u001B[38;5;241m=\u001B[39m\u001B[38;5;241m4\u001B[39m, sg\u001B[38;5;241m=\u001B[39m\u001B[38;5;241m1\u001B[39m)\n\u001B[0;32m     20\u001B[0m model\u001B[38;5;241m.\u001B[39mbuild_vocab(gen_words(stemmed))\n\u001B[1;32m---> 22\u001B[0m model\u001B[38;5;241m.\u001B[39mtrain(gen_words(stemmed), total_examples\u001B[38;5;241m=\u001B[39mmodel\u001B[38;5;241m.\u001B[39mcorpus_count, epochs\u001B[38;5;241m=\u001B[39m\u001B[43mmodel\u001B[49m\u001B[38;5;241;43m.\u001B[39;49m\u001B[43miter\u001B[49m)\n\u001B[0;32m     24\u001B[0m model\u001B[38;5;241m.\u001B[39mwv\u001B[38;5;241m.\u001B[39mmost_similar(positive\u001B[38;5;241m=\u001B[39m[\u001B[38;5;124m'\u001B[39m\u001B[38;5;124mscientist\u001B[39m\u001B[38;5;124m'\u001B[39m])\n",
      "\u001B[1;31mAttributeError\u001B[0m: 'FastText' object has no attribute 'iter'"
     ]
    }
   ],
   "source": [
    "from gensim.models.fasttext import FastText as ft_gensim\n",
    "\n",
    "stemmed = ['database', 'science', 'scientist', 'mgmt', 'microsoft', 'hire', 'develop', 'mentor', 'team', 'data',\n",
    "           'scientist', 'define', 'dataloader', 'scienc', 'priority', 'deep', 'understand', 'learn', 'goal', 'collabor',\n",
    "           'across', 'triple', 'group', 'set', 'team', 'shortterm', 'longterm', 'goal', 'act', 'strait', 'advisor',\n",
    "           'leadership', 'influenc', 'future', 'direct', 'strategy', 'define', 'partnership', 'align', 'effect',\n",
    "           'broad', 'analyt', 'effort', 'analyticsdata', 'team', 'drive', 'part', 'datadog', 'scienc', 'bi', 'common',\n",
    "           'disciplin', 'microsoftprior', 'experi', 'hire', 'manage', 'runner', 'team', 'data', 'scientist', 'busi',\n",
    "           'domain', 'experi', 'usage', 'analyt', 'must', 'experi', 'across', 'sever', 'relev', 'busi', 'domain',\n",
    "           'util', 'critic', 'think', 'skill', 'concept', 'complex', 'busi', 'problem', 'salt', 'use', 'advanc',\n",
    "           'analsis', 'large', 'scale', 'realworld', 'busi', 'data', 'set', 'candid', 'must', 'abl', 'independ',\n",
    "           'execut', 'analyt', 'project', 'help', 'intern', 'client', 'understand']\n",
    "\n",
    "\n",
    "def gen_words(stemmed):\n",
    "    yield stemmed\n",
    "\n",
    "\n",
    "model = ft_gensim(window=5, min_count=1, workers=4, sg=1)\n",
    "model.build_vocab(gen_words(stemmed))\n",
    "\n",
    "model.train(gen_words(stemmed), total_examples=model.corpus_count, epochs=model.iter)\n",
    "\n",
    "model.wv.most_similar(positive=['scientist'])"
   ],
   "metadata": {
    "collapsed": false,
    "ExecuteTime": {
     "end_time": "2023-09-26T05:00:40.560147700Z",
     "start_time": "2023-09-26T05:00:38.640970900Z"
    }
   },
   "id": "9ede8b752ccfa0ed"
  }
 ],
 "metadata": {
  "kernelspec": {
   "display_name": "Python 3",
   "language": "python",
   "name": "python3"
  },
  "language_info": {
   "codemirror_mode": {
    "name": "ipython",
    "version": 2
   },
   "file_extension": ".py",
   "mimetype": "text/x-python",
   "name": "python",
   "nbconvert_exporter": "python",
   "pygments_lexer": "ipython2",
   "version": "2.7.6"
  }
 },
 "nbformat": 4,
 "nbformat_minor": 5
}

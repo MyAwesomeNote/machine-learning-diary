{
 "cells": [
  {
   "cell_type": "code",
   "execution_count": 5,
   "outputs": [
    {
     "name": "stderr",
     "output_type": "stream",
     "text": [
      "C:\\Users\\PleahMaCaka\\AppData\\Local\\Temp\\ipykernel_11120\\851205989.py:13: DeprecationWarning: Call to deprecated `glove2word2vec` (KeyedVectors.load_word2vec_format(.., binary=False, no_header=True) loads GLoVE text vectors.).\n",
      "  glove2word2vec(\"../data/nlp/glove.6B.100d.txt\", word2vec_glove_file)\n"
     ]
    },
    {
     "data": {
      "text/plain": "(400000, 100)"
     },
     "execution_count": 5,
     "metadata": {},
     "output_type": "execute_result"
    }
   ],
   "source": [
    "import matplotlib.pyplot as plt\n",
    "from gensim.models import KeyedVectors\n",
    "from gensim.scripts.glove2word2vec import glove2word2vec\n",
    "from gensim.test.utils import datapath, get_tmpfile\n",
    "\n",
    "plt.style.use(\"ggplot\")\n",
    "%matplotlib notebook\n",
    "\n",
    "    \n",
    "glove_file = datapath(\"../data/nlp/glove.6B.100d.txt\")\n",
    "word2vec_glove_file = get_tmpfile(\"glove.6B.100d.word2vec.txt\")\n",
    "\n",
    "glove2word2vec(\"../data/nlp/glove.6B.100d.txt\", word2vec_glove_file)"
   ],
   "metadata": {
    "collapsed": false,
    "ExecuteTime": {
     "end_time": "2023-09-26T06:00:12.229632200Z",
     "start_time": "2023-09-26T05:59:37.635884200Z"
    }
   },
   "id": "3392302679d177a7"
  },
  {
   "cell_type": "code",
   "execution_count": 6,
   "outputs": [
    {
     "data": {
      "text/plain": "[('legislation', 0.8072139620780945),\n ('proposal', 0.730686366558075),\n ('senate', 0.7142541408538818),\n ('bills', 0.704440176486969),\n ('measure', 0.6958035230636597),\n ('passed', 0.690624475479126),\n ('amendment', 0.6846879720687866),\n ('provision', 0.6845567226409912),\n ('plan', 0.6816462874412537),\n ('clinton', 0.6663140058517456)]"
     },
     "execution_count": 6,
     "metadata": {},
     "output_type": "execute_result"
    }
   ],
   "source": [
    "model = KeyedVectors.load_word2vec_format(word2vec_glove_file)\n",
    "model.most_similar(\"bill\")"
   ],
   "metadata": {
    "collapsed": false,
    "ExecuteTime": {
     "end_time": "2023-09-26T06:00:33.308456Z",
     "start_time": "2023-09-26T06:00:12.225593700Z"
    }
   },
   "id": "edb16dcd57621f9e"
  },
  {
   "cell_type": "code",
   "execution_count": 7,
   "outputs": [
    {
     "data": {
      "text/plain": "[('peach', 0.688809871673584),\n ('mango', 0.683819055557251),\n ('plum', 0.6684104204177856),\n ('berry', 0.6590359210968018),\n ('grove', 0.658155083656311),\n ('blossom', 0.6503506302833557),\n ('raspberry', 0.6477391719818115),\n ('strawberry', 0.6442098021507263),\n ('pine', 0.6390928626060486),\n ('almond', 0.6379212737083435)]"
     },
     "execution_count": 7,
     "metadata": {},
     "output_type": "execute_result"
    }
   ],
   "source": [
    "model.most_similar(\"cherry\")"
   ],
   "metadata": {
    "collapsed": false,
    "ExecuteTime": {
     "end_time": "2023-09-26T06:00:33.323859300Z",
     "start_time": "2023-09-26T06:00:33.301327400Z"
    }
   },
   "id": "ed9352868d9ea716"
  },
  {
   "cell_type": "code",
   "execution_count": 8,
   "outputs": [
    {
     "data": {
      "text/plain": "[('kazushige', 0.48343509435653687),\n ('askerov', 0.4778185784816742),\n ('lakpa', 0.46915265917778015),\n ('ex-gay', 0.4571332633495331),\n ('tadayoshi', 0.4522107243537903),\n ('turani', 0.44810065627098083),\n ('saglam', 0.4469599425792694),\n ('aijun', 0.4435270130634308),\n ('adjustors', 0.44235292077064514),\n ('nyum', 0.4423118233680725)]"
     },
     "execution_count": 8,
     "metadata": {},
     "output_type": "execute_result"
    }
   ],
   "source": [
    "model.most_similar(negative=[\"cherry\"])"
   ],
   "metadata": {
    "collapsed": false,
    "ExecuteTime": {
     "end_time": "2023-09-26T06:00:33.386145800Z",
     "start_time": "2023-09-26T06:00:33.315697200Z"
    }
   },
   "id": "9ab14d9131b6f131"
  },
  {
   "cell_type": "code",
   "execution_count": 9,
   "outputs": [
    {
     "name": "stdout",
     "output_type": "stream",
     "text": [
      "queen: 0.7699\n"
     ]
    }
   ],
   "source": [
    "result = model.most_similar(positive=[\"woman\", \"king\"], negative=[\"man\"])\n",
    "print(\"{}: {:.4f}\".format(*result[0]))"
   ],
   "metadata": {
    "collapsed": false,
    "ExecuteTime": {
     "end_time": "2023-09-26T06:00:33.387252900Z",
     "start_time": "2023-09-26T06:00:33.342788400Z"
    }
   },
   "id": "e6ba2f0117d06ef2"
  },
  {
   "cell_type": "code",
   "execution_count": 10,
   "outputs": [
    {
     "data": {
      "text/plain": "'longest'"
     },
     "execution_count": 10,
     "metadata": {},
     "output_type": "execute_result"
    }
   ],
   "source": [
    "def analogy(x1, x2, y1):\n",
    "    res = model.most_similar(positive=[y1, x2], negative=[x1])\n",
    "    return res[0][0]\n",
    "\n",
    "analogy(\"tall\", \"tallest\", \"long\")"
   ],
   "metadata": {
    "collapsed": false,
    "ExecuteTime": {
     "end_time": "2023-09-26T06:00:33.387252900Z",
     "start_time": "2023-09-26T06:00:33.360991300Z"
    }
   },
   "id": "447e2a79573e5a9d"
  },
  {
   "cell_type": "code",
   "execution_count": 11,
   "outputs": [
    {
     "name": "stdout",
     "output_type": "stream",
     "text": [
      "cereal\n"
     ]
    }
   ],
   "source": [
    "print(model.doesnt_match(\"breakfast cereal dinner lunch\".split()))"
   ],
   "metadata": {
    "collapsed": false,
    "ExecuteTime": {
     "end_time": "2023-09-26T06:00:33.388404Z",
     "start_time": "2023-09-26T06:00:33.376175Z"
    }
   },
   "id": "2ab23621d1f40ebd"
  }
 ],
 "metadata": {
  "kernelspec": {
   "display_name": "Python 3",
   "language": "python",
   "name": "python3"
  },
  "language_info": {
   "codemirror_mode": {
    "name": "ipython",
    "version": 2
   },
   "file_extension": ".py",
   "mimetype": "text/x-python",
   "name": "python",
   "nbconvert_exporter": "python",
   "pygments_lexer": "ipython2",
   "version": "2.7.6"
  }
 },
 "nbformat": 4,
 "nbformat_minor": 5
}

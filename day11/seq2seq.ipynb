{
 "cells": [
  {
   "cell_type": "code",
   "execution_count": 15,
   "outputs": [
    {
     "name": "stdout",
     "output_type": "stream",
     "text": [
      "Using cuda device\n"
     ]
    }
   ],
   "source": [
    "from __future__ import unicode_literals, print_function, division\n",
    "\n",
    "import os\n",
    "import random\n",
    "import time\n",
    "\n",
    "import pandas as pd\n",
    "import torch\n",
    "import torch.nn as nn\n",
    "import torch.nn.functional as functional\n",
    "import torch.optim as optim\n",
    "\n",
    "device = torch.device(\"cuda\" if torch.cuda.is_available() else \"cpu\")\n",
    "\n",
    "print(f\"Using {device} device\")"
   ],
   "metadata": {
    "collapsed": false,
    "ExecuteTime": {
     "end_time": "2023-09-27T00:46:17.500250700Z",
     "start_time": "2023-09-27T00:46:17.465904Z"
    }
   },
   "id": "dd7021ea3cc65db5"
  },
  {
   "cell_type": "code",
   "execution_count": 16,
   "outputs": [],
   "source": [
    "SOS_token = 0\n",
    "EOS_token = 1\n",
    "MAX_LENGTH = 20\n",
    "\n",
    "\n",
    "class Lang:\n",
    "    def __init__(self):\n",
    "        self.word2index = {}\n",
    "        self.word2count = {}\n",
    "        self.index2word = {0: \"SOS\", 1: \"EOS\"}\n",
    "        self.n_words = 2\n",
    "\n",
    "    def add_sentence(self, sentence):\n",
    "        for word in sentence.split(' '):\n",
    "            self.add_word(word)\n",
    "\n",
    "    def add_word(self, word):\n",
    "        if word not in self.word2index:\n",
    "            self.word2index[word] = self.n_words\n",
    "            self.word2count[word] = 1\n",
    "            self.index2word[self.n_words] = word\n",
    "            self.n_words += 1\n",
    "        else:\n",
    "            self.word2count[word] += 1"
   ],
   "metadata": {
    "collapsed": false,
    "ExecuteTime": {
     "end_time": "2023-09-27T00:46:17.500250700Z",
     "start_time": "2023-09-27T00:46:17.471666400Z"
    }
   },
   "id": "be400681afb4c61e"
  },
  {
   "cell_type": "code",
   "execution_count": 17,
   "outputs": [],
   "source": [
    "def normalize_string(df, lang):\n",
    "    sentence = df[lang].str.lower()\n",
    "    sentence = sentence.str.replace(\"[^A-Za-z\\s]+\", \" \")\n",
    "    sentence = sentence.str.normalize(\"NFD\")\n",
    "    sentence = sentence.str.encode(\"ascii\", errors=\"ignore\").str.decode(\"utf-8\")\n",
    "    return sentence\n",
    "\n",
    "\n",
    "def read_sentence(df, lang_1, lang_2):\n",
    "    sentence1 = normalize_string(df, lang_1)\n",
    "    sentence2 = normalize_string(df, lang_2)\n",
    "    return sentence1, sentence2\n",
    "\n",
    "\n",
    "def read_file(loc, lang_1, lang_2):\n",
    "    return pd.read_csv(loc, delimiter=\"\\t\", header=None, names=[lang_1, lang_2])\n",
    "\n",
    "\n",
    "def process_data(lang_1, lang_2):\n",
    "    df = read_file(\"../data/nlp/%s-%s.txt\" % (lang_1, lang_2), lang_1, lang_2)\n",
    "    sentence1, sentence2 = read_sentence(df, lang_1, lang_2)\n",
    "\n",
    "    in_lang = Lang()\n",
    "    out_lang = Lang()\n",
    "\n",
    "    _pairs = []\n",
    "    for i in range(len(df)):\n",
    "        if len(sentence1[i].split()) < MAX_LENGTH and len(sentence2[i].split()) < MAX_LENGTH:\n",
    "            full = [sentence1[i], sentence2[i]]\n",
    "            in_lang.add_sentence(sentence1[i])\n",
    "            out_lang.add_sentence(sentence2[i])\n",
    "            _pairs.append(full)\n",
    "\n",
    "    return in_lang, out_lang, _pairs"
   ],
   "metadata": {
    "collapsed": false,
    "ExecuteTime": {
     "end_time": "2023-09-27T00:46:17.500250700Z",
     "start_time": "2023-09-27T00:46:17.480588300Z"
    }
   },
   "id": "a2045aa44656ea6d"
  },
  {
   "cell_type": "code",
   "execution_count": 18,
   "outputs": [],
   "source": [
    "def index_from_sentence(lang, sentence):\n",
    "    return [lang.word2index[word] for word in sentence.split(' ')]\n",
    "\n",
    "\n",
    "def tensor_from_sentence(lang, sentence):\n",
    "    indexes = index_from_sentence(lang, sentence)\n",
    "    indexes.append(EOS_token)\n",
    "    return torch.tensor(indexes, dtype=torch.long, device=device).view(-1, 1)\n",
    "\n",
    "\n",
    "def tensor_from_pair(in_lang, out_lang, pair):\n",
    "    input_tensor = tensor_from_sentence(in_lang, pair[0])\n",
    "    output_tensor = tensor_from_sentence(out_lang, pair[1])\n",
    "    return input_tensor, output_tensor"
   ],
   "metadata": {
    "collapsed": false,
    "ExecuteTime": {
     "end_time": "2023-09-27T00:46:17.554899500Z",
     "start_time": "2023-09-27T00:46:17.487300500Z"
    }
   },
   "id": "1dbe2bdccb795fd0"
  },
  {
   "cell_type": "code",
   "execution_count": 19,
   "outputs": [],
   "source": [
    "class Encoder(nn.Module):\n",
    "    def __init__(self, input_dim, hidden_dim, embed_dim, n_layers):\n",
    "        super(Encoder, self).__init__()\n",
    "\n",
    "        self.input_dim = input_dim\n",
    "        self.hidden_dim = hidden_dim\n",
    "        self.embed_dim = embed_dim\n",
    "        self.num_layers = n_layers\n",
    "\n",
    "        self.embedding = nn.Embedding(input_dim, embed_dim)\n",
    "        self.gru = nn.GRU(embed_dim, hidden_dim, n_layers)\n",
    "\n",
    "    def forward(self, src):\n",
    "        embedded = self.embedding(src)\n",
    "        output, hidden = self.gru(embedded)\n",
    "        return output, hidden"
   ],
   "metadata": {
    "collapsed": false,
    "ExecuteTime": {
     "end_time": "2023-09-27T00:46:17.555405600Z",
     "start_time": "2023-09-27T00:46:17.495933700Z"
    }
   },
   "id": "9e89560bb6d1962a"
  },
  {
   "cell_type": "code",
   "execution_count": 20,
   "outputs": [],
   "source": [
    "class Decoder(nn.Module):\n",
    "    def __init__(self, output_dim, hidden_dim, embed_dim, n_layers):\n",
    "        super(Decoder, self).__init__()\n",
    "\n",
    "        self.output_dim = output_dim\n",
    "        self.hidden_dim = hidden_dim\n",
    "        self.embed_dim = embed_dim\n",
    "        self.num_layers = n_layers\n",
    "\n",
    "        self.embedding = nn.Embedding(output_dim, embed_dim)\n",
    "        self.gru = nn.GRU(embed_dim, hidden_dim, n_layers)\n",
    "        self.fc = nn.Linear(hidden_dim, output_dim)\n",
    "        self.softmax = nn.LogSoftmax(dim=1)\n",
    "\n",
    "    def forward(self, _input, hidden):\n",
    "        _input = _input.view(1, -1)\n",
    "        embedded = functional.relu(self.embedding(_input))\n",
    "        output, hidden = self.gru(embedded, hidden)\n",
    "        prediction = self.softmax(self.fc(output[0]))\n",
    "        return prediction, hidden"
   ],
   "metadata": {
    "collapsed": false,
    "ExecuteTime": {
     "end_time": "2023-09-27T00:46:17.556415400Z",
     "start_time": "2023-09-27T00:46:17.502266600Z"
    }
   },
   "id": "dc739d57271bfdf0"
  },
  {
   "cell_type": "code",
   "execution_count": 21,
   "outputs": [],
   "source": [
    "class Seq2Seq(nn.Module):\n",
    "    def __init__(self, _encoder, _decoder, _device, max_len=MAX_LENGTH):\n",
    "        super(Seq2Seq, self).__init__()\n",
    "\n",
    "        self.MAX_LENGTH = max_len\n",
    "        self.encoder = _encoder\n",
    "        self.decoder = _decoder\n",
    "        self.device = _device\n",
    "\n",
    "    def forward(self, input_tensor, target_tensor, _teacher_forcing_ratio=0.5):\n",
    "        input_length = input_tensor.size(0)\n",
    "        batch_size = target_tensor.shape[1]\n",
    "        target_length = target_tensor.shape[0]\n",
    "\n",
    "        vocab_size = self.decoder.output_dim\n",
    "\n",
    "        outputs = torch.zeros(target_length, batch_size, vocab_size).to(self.device)\n",
    "\n",
    "        for i in range(input_length):\n",
    "            encoder_output, encoder_hidden = self.encoder(input_tensor[i])\n",
    "\n",
    "        # noinspection PyUnboundLocalVariable\n",
    "        decoder_hidden = encoder_hidden.unsqueeze(0).to(device)\n",
    "        decoder_input = torch.tensor([SOS_token], device=device)\n",
    "\n",
    "        use_teacher_forcing = True if random.random() < _teacher_forcing_ratio else False\n",
    "\n",
    "        if use_teacher_forcing:\n",
    "            for t in range(target_length):\n",
    "                decoder_output, decoder_hidden = self.decoder(decoder_input, decoder_hidden)\n",
    "                outputs[t] = decoder_output\n",
    "                decoder_input = target_tensor[t]\n",
    "\n",
    "        else:\n",
    "            for t in range(target_length):\n",
    "                decoder_output, decoder_hidden = self.decoder(decoder_input, decoder_hidden)\n",
    "                outputs[t] = decoder_output\n",
    "                top_v, topi = decoder_output.topk(1)\n",
    "                decoder_input = topi.squeeze().detach()\n",
    "\n",
    "                if decoder_input.item() == EOS_token:\n",
    "                    break\n",
    "\n",
    "        return outputs"
   ],
   "metadata": {
    "collapsed": false,
    "ExecuteTime": {
     "end_time": "2023-09-27T00:46:17.556415400Z",
     "start_time": "2023-09-27T00:46:17.510412600Z"
    }
   },
   "id": "2b5b313febc76908"
  },
  {
   "cell_type": "code",
   "execution_count": 22,
   "outputs": [],
   "source": [
    "teacher_forcing_ratio = 0.5\n",
    "\n",
    "\n",
    "def create_model(_model, input_tensor, target_tensor, model_optimizer, criterion):\n",
    "    model_optimizer.zero_grad()\n",
    "\n",
    "    loss = 0\n",
    "    output = _model(input_tensor, target_tensor)\n",
    "    num_iter = output.size(0)\n",
    "\n",
    "    for ot in range(num_iter):\n",
    "        loss += criterion(output[ot], target_tensor[ot])\n",
    "\n",
    "    loss.backward()\n",
    "    model_optimizer.step()\n",
    "\n",
    "    epoch_loss = loss.item() / num_iter\n",
    "    return epoch_loss"
   ],
   "metadata": {
    "collapsed": false,
    "ExecuteTime": {
     "end_time": "2023-09-27T00:46:17.557414100Z",
     "start_time": "2023-09-27T00:46:17.518314Z"
    }
   },
   "id": "b0c1cb8888ac106d"
  },
  {
   "cell_type": "code",
   "execution_count": 23,
   "outputs": [],
   "source": [
    "def train_model(_model, in_lang, out_lang, _paris, n_iter=20000):\n",
    "    if not os.path.exists('./ckpt'):\n",
    "        os.makedirs('./ckpt')\n",
    "\n",
    "    # if a model exists, load and print iteration\n",
    "    if os.path.isfile('./ckpt/nlp.pt'):\n",
    "        _model.load_state_dict(torch.load('./ckpt/nlp.pt'))\n",
    "        print(\"Model loaded\")\n",
    "\n",
    "    res = input(\"Do you want to train the model? [y/N]\").lower().strip()\n",
    "    if res != 'y':\n",
    "        return _model\n",
    "\n",
    "    _model.train()\n",
    "    optimizer = optim.SGD(_model.parameters(), lr=0.01)\n",
    "    criterion = nn.NLLLoss()\n",
    "    total_loss_iterations = 0\n",
    "\n",
    "    training_pairs = [tensor_from_pair(in_lang, out_lang, random.choice(_paris))\n",
    "                      for _ in range(n_iter)]\n",
    "\n",
    "    for i in range(1, n_iter + 1):\n",
    "        training_pair = training_pairs[i - 1]\n",
    "        input_tensor = training_pair[0]\n",
    "        target_tensor = training_pair[1]\n",
    "        loss = create_model(_model, input_tensor, target_tensor, optimizer, criterion)\n",
    "        total_loss_iterations += loss\n",
    "\n",
    "        if i % 5000 == 0:\n",
    "            average_loss = total_loss_iterations / 5000\n",
    "            total_loss_iterations = 0\n",
    "            print('%d %.4f' % (i, average_loss))\n",
    "\n",
    "            # save\n",
    "            torch.save(_model.state_dict(), './ckpt/nlp.pt')\n",
    "            print(f\"Model saved at {i} iteration\")\n",
    "\n",
    "    print(\"Model saved at last iteration\")\n",
    "    torch.save(_model.state_dict(), './ckpt/nlp.pt')\n",
    "\n",
    "    return _model"
   ],
   "metadata": {
    "collapsed": false,
    "ExecuteTime": {
     "end_time": "2023-09-27T00:46:17.557414100Z",
     "start_time": "2023-09-27T00:46:17.529884500Z"
    }
   },
   "id": "4df1074204f36a1d"
  },
  {
   "cell_type": "code",
   "execution_count": 24,
   "outputs": [],
   "source": [
    "def evaluate(_model, in_lang, out_lang, sentences):\n",
    "    with torch.no_grad():\n",
    "        input_tensor = tensor_from_sentence(in_lang, sentences[0])\n",
    "        output_tensor = tensor_from_sentence(out_lang, sentences[1])\n",
    "        decoded_words = []\n",
    "        output = _model(input_tensor, output_tensor)\n",
    "\n",
    "        for ot in range(output.size(0)):\n",
    "            top_v, topi = output[ot].topk(1)\n",
    "\n",
    "            if topi[0].item() == EOS_token:\n",
    "                decoded_words.append('<EOS>')\n",
    "                break\n",
    "            else:\n",
    "                decoded_words.append(out_lang.index2word[topi[0].item()])\n",
    "\n",
    "    return decoded_words\n",
    "\n",
    "\n",
    "def evaluate_randomly(_model, in_lang, out_lang, _pairs, n=10):\n",
    "    for i in range(n):\n",
    "        pair = random.choice(_pairs)\n",
    "        print('input {}'.format(pair[0]))\n",
    "        print('output {}'.format(pair[1]))\n",
    "        output_words = evaluate(_model, in_lang, out_lang, pair)\n",
    "        output_sentence = ' '.join(output_words)\n",
    "        print('predicted {}'.format(output_sentence))"
   ],
   "metadata": {
    "collapsed": false,
    "ExecuteTime": {
     "end_time": "2023-09-27T00:46:17.557414100Z",
     "start_time": "2023-09-27T00:46:17.537448400Z"
    }
   },
   "id": "6d0692e38ee85489"
  },
  {
   "cell_type": "code",
   "execution_count": 25,
   "outputs": [
    {
     "name": "stdout",
     "output_type": "stream",
     "text": [
      "random sentence ['i got one for christmas.', \"j'en ai eu une pour noel.\"]\n",
      "Input : 23194 Output : 39389\n",
      "Encoder(\n",
      "  (embedding): Embedding(23194, 256)\n",
      "  (gru): GRU(256, 512)\n",
      ")\n",
      "Decoder(\n",
      "  (embedding): Embedding(39389, 256)\n",
      "  (gru): GRU(256, 512)\n",
      "  (fc): Linear(in_features=512, out_features=39389, bias=True)\n",
      "  (softmax): LogSoftmax(dim=1)\n",
      ")\n",
      "Model loaded\n",
      "5000 5.1440\n",
      "Model saved at 5000 iteration\n",
      "10000 5.0352\n",
      "Model saved at 10000 iteration\n",
      "15000 4.9320\n",
      "Model saved at 15000 iteration\n",
      "20000 4.8429\n",
      "Model saved at 20000 iteration\n",
      "25000 4.8087\n",
      "Model saved at 25000 iteration\n",
      "30000 4.7591\n",
      "Model saved at 30000 iteration\n",
      "35000 4.7412\n",
      "Model saved at 35000 iteration\n",
      "40000 4.6842\n",
      "Model saved at 40000 iteration\n",
      "45000 4.6849\n",
      "Model saved at 45000 iteration\n",
      "50000 4.6109\n",
      "Model saved at 50000 iteration\n",
      "55000 4.6569\n",
      "Model saved at 55000 iteration\n",
      "60000 4.6267\n",
      "Model saved at 60000 iteration\n",
      "65000 4.5694\n",
      "Model saved at 65000 iteration\n",
      "70000 4.5376\n",
      "Model saved at 70000 iteration\n",
      "75000 4.5083\n",
      "Model saved at 75000 iteration\n",
      "Model saved at last iteration\n"
     ]
    }
   ],
   "source": [
    "lang1 = 'eng'\n",
    "lang2 = 'fra'\n",
    "input_lang, output_lang, pairs = process_data(lang1, lang2)\n",
    "\n",
    "randomize = random.choice(pairs)\n",
    "print('random sentence {}'.format(randomize))\n",
    "\n",
    "input_size = input_lang.n_words\n",
    "output_size = output_lang.n_words\n",
    "print('Input : {} Output : {}'.format(input_size, output_size))\n",
    "\n",
    "embed_size = 256\n",
    "hidden_size = 512\n",
    "num_layers = 1\n",
    "num_iteration = 75000\n",
    "\n",
    "encoder = Encoder(input_size, hidden_size, embed_size, num_layers)\n",
    "decoder = Decoder(output_size, hidden_size, embed_size, num_layers)\n",
    "\n",
    "model = Seq2Seq(encoder, decoder, device).to(device)\n",
    "\n",
    "print(encoder)\n",
    "print(decoder)\n",
    "\n",
    "model = train_model(model, input_lang, output_lang, pairs, num_iteration)"
   ],
   "metadata": {
    "collapsed": false,
    "ExecuteTime": {
     "end_time": "2023-09-27T01:22:27.444230Z",
     "start_time": "2023-09-27T00:46:17.541767600Z"
    }
   },
   "id": "6e60ffaf46f0894"
  },
  {
   "cell_type": "code",
   "execution_count": 26,
   "outputs": [],
   "source": [
    "class AttnDecoderRNN(nn.Module):\n",
    "    def __init__(self, _hidden_size, _output_size, dropout=0.5, max_len=MAX_LENGTH):\n",
    "        super(AttnDecoderRNN, self).__init__()\n",
    "\n",
    "        self.hidden_size = _hidden_size\n",
    "        self.output_size = _output_size\n",
    "        self.dropout = dropout\n",
    "        self.max_len = max_len\n",
    "\n",
    "        self.embedding = nn.Embedding(self.output_size, self.hidden_size)\n",
    "        self.attn = nn.Linear(self.hidden_size * 2, self.max_len)\n",
    "        self.attn_combine = nn.Linear(self.hidden_size * 2, self.hidden_size)\n",
    "        self.dropout = nn.Dropout(self.dropout)\n",
    "        self.gru = nn.GRU(self.hidden_size, self.hidden_size)\n",
    "        self.out = nn.Linear(self.hidden_size, self.output_size)\n",
    "\n",
    "    def forward(self, _input, hidden, encoder_outputs):\n",
    "        embedded = self.embedding(_input).view(1, 1, -1)\n",
    "        embedded = self.dropout(embedded)\n",
    "\n",
    "        attn_weights = functional.softmax(self.attn(torch.cat((embedded[0], hidden[0]), 1)), dim=1)\n",
    "        attn_applied = torch.bmm(attn_weights.unsqueeze(0), encoder_outputs.unsqueeze(0))\n",
    "\n",
    "        output = torch.cat((embedded[0], attn_applied[0]), 1)\n",
    "        output = self.attn_combine(output).unsqueeze(0)\n",
    "\n",
    "        output = functional.relu(output)\n",
    "        output, hidden = self.gru(output, hidden)\n",
    "\n",
    "        output = functional.log_softmax(self.out(output[0]), dim=1)\n",
    "        return output, hidden, attn_weights"
   ],
   "metadata": {
    "collapsed": false,
    "ExecuteTime": {
     "end_time": "2023-09-27T01:22:27.463920500Z",
     "start_time": "2023-09-27T01:22:27.449740400Z"
    }
   },
   "id": "2dfba3d14c117ea0"
  },
  {
   "cell_type": "code",
   "execution_count": 27,
   "outputs": [],
   "source": [
    "def train_iters(_encoder, _decoder, n_iters, print_every=1000, plot_every=1000, lr=0.01):\n",
    "    start = time.time()\n",
    "    plot_losses = []\n",
    "    print_loss_total = 0\n",
    "    plot_loss_total = 0\n",
    "\n",
    "    encoder_optimizer = optim.SGD(_encoder.parameters(), lr=lr)\n",
    "    decoder_optimizer = optim.SGD(_decoder.parameters(), lr=lr)\n",
    "\n",
    "    training_pairs = [tensor_from_pair(input_lang, output_lang, random.choice(pairs))\n",
    "                      for _ in range(n_iters)]\n",
    "\n",
    "    criterion = nn.NLLLoss()\n",
    "\n",
    "    for i in range(1, n_iters + 1):\n",
    "        training_pair = training_pairs[i - 1]\n",
    "        input_tensor = training_pair[0]\n",
    "        target_tensor = training_pair[1]\n",
    "\n",
    "        loss = create_model(model, input_tensor, target_tensor, decoder_optimizer, criterion)\n",
    "        print_loss_total += loss\n",
    "        plot_loss_total += loss\n",
    "\n",
    "        if i % print_every == 0:\n",
    "            print_loss_avg = print_loss_total / print_every\n",
    "            print_loss_total = 0\n",
    "            print('%d %.4f' % (i, print_loss_avg))\n",
    "\n",
    "        if i % plot_every == 0:\n",
    "            plot_loss_avg = plot_loss_total / plot_every\n",
    "            plot_losses.append(plot_loss_avg)\n",
    "            plot_loss_total = 0"
   ],
   "metadata": {
    "collapsed": false,
    "ExecuteTime": {
     "end_time": "2023-09-27T01:22:27.481535600Z",
     "start_time": "2023-09-27T01:22:27.458904400Z"
    }
   },
   "id": "eea4679212cabafc"
  },
  {
   "cell_type": "code",
   "execution_count": null,
   "outputs": [
    {
     "name": "stdout",
     "output_type": "stream",
     "text": [
      "Encoder(\n",
      "  (embedding): Embedding(23194, 256)\n",
      "  (gru): GRU(256, 512)\n",
      ")\n",
      "AttnDecoderRNN(\n",
      "  (embedding): Embedding(39389, 512)\n",
      "  (attn): Linear(in_features=1024, out_features=20, bias=True)\n",
      "  (attn_combine): Linear(in_features=1024, out_features=512, bias=True)\n",
      "  (dropout): Dropout(p=0.1, inplace=False)\n",
      "  (gru): GRU(512, 512)\n",
      "  (out): Linear(in_features=512, out_features=39389, bias=True)\n",
      ")\n",
      "5000 4.6863\n",
      "10000 4.6931\n"
     ]
    }
   ],
   "source": [
    "embed_size = 256\n",
    "hidden_size = 512\n",
    "num_layers = 1\n",
    "input_size = input_lang.n_words\n",
    "output_size = output_lang.n_words\n",
    "\n",
    "encoder1 = Encoder(input_size, hidden_size, embed_size, num_layers).to(device)\n",
    "attn_decoder1 = AttnDecoderRNN(hidden_size, output_size, dropout=0.1).to(device)\n",
    "\n",
    "print(encoder1)\n",
    "print(attn_decoder1)\n",
    "\n",
    "attn_model = train_iters(encoder1, attn_decoder1, 75000, print_every=5000, plot_every=100, lr=0.1)"
   ],
   "metadata": {
    "collapsed": false,
    "is_executing": true,
    "ExecuteTime": {
     "start_time": "2023-09-27T01:22:27.471975700Z"
    }
   },
   "id": "ab6374a9e42f15b3"
  }
 ],
 "metadata": {
  "kernelspec": {
   "display_name": "Python 3",
   "language": "python",
   "name": "python3"
  },
  "language_info": {
   "codemirror_mode": {
    "name": "ipython",
    "version": 2
   },
   "file_extension": ".py",
   "mimetype": "text/x-python",
   "name": "python",
   "nbconvert_exporter": "python",
   "pygments_lexer": "ipython2",
   "version": "2.7.6"
  }
 },
 "nbformat": 4,
 "nbformat_minor": 5
}
